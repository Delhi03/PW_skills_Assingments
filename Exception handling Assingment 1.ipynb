{
 "cells": [
  {
   "cell_type": "markdown",
   "id": "69ab07a8-9c71-405c-925d-13525b798878",
   "metadata": {},
   "source": [
    "## Exception Handling - 1"
   ]
  },
  {
   "cell_type": "code",
   "execution_count": null,
   "id": "8ec876ab-f323-42c3-a517-de481a3abe15",
   "metadata": {},
   "outputs": [],
   "source": []
  },
  {
   "cell_type": "markdown",
   "id": "b8cf9fc0-f009-4c68-ad74-1d853b9f236d",
   "metadata": {},
   "source": [
    " Q1. What is an Exception in python? Write the difference between Exceptions and syntax error ?  \n",
    " Ans:  \n",
    " Exceptions are raised when some internal events occur which change the normal flow of the program.   \n",
    "Syntax Error: As the name suggests this error is caused by the wrong syntax in the code. It leads to the termination of the program.  \n",
    "Exceptions: Exceptions are raised when the program is syntactically correct, but the code results in an error. This error does not stop the execution of the program, however, it changes the normal flow of the program.\n",
    "\n"
   ]
  },
  {
   "cell_type": "code",
   "execution_count": null,
   "id": "07b4490d-5905-4adb-9694-5028f8ac939a",
   "metadata": {},
   "outputs": [],
   "source": []
  },
  {
   "cell_type": "markdown",
   "id": "befc4a7a-72e7-48f9-bad6-2c611e3868bd",
   "metadata": {},
   "source": [
    "Q2. What happens when an exception is not handled? Explain with an example.\n",
    "Ans:  \n",
    "\n",
    "When an exception is not handled in a program, it typically leads to an abnormal termination of the program's execution. This means that the program stops running, and the normal flow of execution is disrupted. The error message associated with the unhandled exception is often displayed, indicating what went wrong in the code. Unhandled exceptions can cause data corruption, resource leaks, and unpredictable behavior."
   ]
  },
  {
   "cell_type": "code",
   "execution_count": 16,
   "id": "d5dc21cf-42ff-46bc-9bfa-8b6c74838b49",
   "metadata": {},
   "outputs": [],
   "source": [
    "import logging\n",
    "logging.basicConfig(filename=\"Exp_hand.log\", level= logging.INFO, format=\"%(acstimr)s \")"
   ]
  },
  {
   "cell_type": "code",
   "execution_count": null,
   "id": "a9db7e8a-1036-409e-9d3b-120db0bad375",
   "metadata": {},
   "outputs": [],
   "source": [
    "logging.info(\"divide method is created for testing\")\n",
    "def divide(a,b):\n",
    "    result = a/b\n",
    "    return result\n",
    "try:\n",
    "    print(divide(5,0))\n",
    "except ZeroDivisionError as e:\n",
    "    logging,info(\"Zerodivision Error is thrown by try block\")\n",
    "    print(\"Enter Value of Denominator greater than 0\")\n",
    "    print(e)"
   ]
  },
  {
   "cell_type": "code",
   "execution_count": null,
   "id": "a9694b14-463f-4228-895a-11e9762f1bb9",
   "metadata": {},
   "outputs": [],
   "source": []
  },
  {
   "cell_type": "markdown",
   "id": "00c709ab-f550-4885-884f-ea06871fd3a5",
   "metadata": {},
   "source": [
    "Q3. Which Python statements are used to catch and handled exceptions? Explain with an example  \n",
    "In Python, you can catch and handle exceptions using the try and except statements. The try block contains the code that might raise an exception, and the except block contains the code to handle the exception if it occurs.  \n"
   ]
  },
  {
   "cell_type": "code",
   "execution_count": 2,
   "id": "2c7779a5-4e9a-4ecc-ab1a-7bc85d0fdc2d",
   "metadata": {},
   "outputs": [
    {
     "name": "stdout",
     "output_type": "stream",
     "text": [
      "Enter Value of Denominator greater than 0\n",
      "division by zero\n"
     ]
    }
   ],
   "source": [
    "def divide(a,b):\n",
    "    result = a/b\n",
    "    return result\n",
    "try:\n",
    "    print(divide(5,0))\n",
    "except ZeroDivisionError as e:\n",
    "    print(\"Enter Value of Denominator greater than 0\")\n",
    "    print(e)"
   ]
  },
  {
   "cell_type": "code",
   "execution_count": null,
   "id": "0cee6954-01f3-4f23-b585-16fc37acdca1",
   "metadata": {},
   "outputs": [],
   "source": []
  },
  {
   "cell_type": "markdown",
   "id": "e6c43a52-0984-4bba-8e08-137e16e912b5",
   "metadata": {},
   "source": [
    "Q4. Explain with an example:  \n",
    "    try and else  \n",
    "    finally  \n",
    "    raise"
   ]
  },
  {
   "cell_type": "markdown",
   "id": "9baf517a-5210-43f7-b944-af3f14001136",
   "metadata": {},
   "source": [
    "Try-else:  \n",
    "In Python, you can also use the else clause on the try-except block which must be present after all the except clauses. The code enters the else block only if the try clause does not raise an exception.\n",
    "\n",
    "Finally:  \n",
    "Python provides a keyword finally, which is always executed after the try and except blocks. The final block always executes after the normal termination of the try block or after the try block terminates due to some exception.  \n",
    "  \n",
    "raise:  \n",
    "The raise statement allows the programmer to force a specific exception to occur. The sole argument in raise indicates the exception to be raised. This must be either an exception instance or an exception class (a class that derives from Exception).  \n"
   ]
  },
  {
   "cell_type": "code",
   "execution_count": 13,
   "id": "319ac351-c5d5-4bc6-99d3-dc6dcdf5d7ad",
   "metadata": {},
   "outputs": [
    {
     "name": "stdout",
     "output_type": "stream",
     "text": [
      "I am leaving try block without giving Exception\n",
      "I am in else block\n",
      "I am finally block\n",
      "------------------------------------------------------\n",
      "\n",
      "\n"
     ]
    }
   ],
   "source": [
    "try:\n",
    "    print(\"I am leaving try block without giving Exception\")\n",
    "except Exception as e:\n",
    "    print(\"Error in code\")\n",
    "else :\n",
    "    print(\"I am in else block\")\n",
    "finally:\n",
    "    print(\"I am finally block\")\n",
    "    \n",
    "print(\"------------------------------------------------------\\n\\n\")\n",
    "\n",
    "def area(r):\n",
    "    if r<0:\n",
    "        raise NegativeException(\"Entered Radius is less than 0\")\n",
    "    else:\n",
    "        return 3.14*r*r"
   ]
  },
  {
   "cell_type": "code",
   "execution_count": null,
   "id": "9da69747-3009-4a9f-b203-92569fb619ad",
   "metadata": {},
   "outputs": [],
   "source": []
  },
  {
   "cell_type": "markdown",
   "id": "8458297f-eda0-4178-b4c3-3a1e515aad7c",
   "metadata": {},
   "source": [
    "What are custom exception in python? Why do we need custom exception ? Explain with example  \n",
    "Ans:  \n",
    "\n",
    "Custom exceptions in Python are user-defined exceptions that you create to address specific scenarios or errors that might occur in your code.  \n",
    "Creating custom exceptions allows you to provide more meaningful and descriptive error messages and to organize your code in a way that makes error handling clearer and more intuitive."
   ]
  },
  {
   "cell_type": "code",
   "execution_count": 4,
   "id": "5b736278-35bf-4662-b165-0a1f7212fc44",
   "metadata": {},
   "outputs": [],
   "source": [
    "class Validate_phone(Exception):\n",
    "    \n",
    "    def __init__(self,msg):\n",
    "        self.msg=msg\n",
    "    "
   ]
  },
  {
   "cell_type": "code",
   "execution_count": null,
   "id": "5fa2e8cb-0852-4142-b237-84e39bb36f7f",
   "metadata": {},
   "outputs": [],
   "source": [
    "def validate_phone(num):\n",
    "    if type(num) == int:\n",
    "        print(\"Valid Num\")\n",
    "    else:\n",
    "        raise Validate_phone(\"Phone number is valid\")"
   ]
  },
  {
   "cell_type": "code",
   "execution_count": 9,
   "id": "a25192ea-ecd1-405b-af96-3fe3677fd52f",
   "metadata": {},
   "outputs": [
    {
     "name": "stdin",
     "output_type": "stream",
     "text": [
      "Enter Your Phone Number 123m\n"
     ]
    },
    {
     "name": "stdout",
     "output_type": "stream",
     "text": [
      "Phone number is valid\n"
     ]
    }
   ],
   "source": [
    "try:\n",
    "    phone =input(\"Enter Your Phone Number\")\n",
    "    validate_phone(phone)\n",
    "except Validate_phone as e:\n",
    "    print(e)"
   ]
  },
  {
   "cell_type": "code",
   "execution_count": null,
   "id": "c7cf2353-e90d-4014-8d1d-6f11d2804c51",
   "metadata": {},
   "outputs": [],
   "source": []
  },
  {
   "cell_type": "markdown",
   "id": "03ff1029-1221-4ed6-a138-c0a682a8e790",
   "metadata": {},
   "source": [
    "Create a custom exception class.Use this class to handle exception "
   ]
  },
  {
   "cell_type": "code",
   "execution_count": 10,
   "id": "b86f2aa4-463f-4c01-a792-4d65baf7a732",
   "metadata": {},
   "outputs": [],
   "source": [
    "class NegativeException(Exception):\n",
    "    \n",
    "    def __init__(self,msg):\n",
    "        self.msg=msg\n",
    "        "
   ]
  },
  {
   "cell_type": "code",
   "execution_count": 11,
   "id": "67936eb6-c101-4e1f-be8e-2976249c373f",
   "metadata": {},
   "outputs": [],
   "source": [
    "def area(r):\n",
    "    if r<0:\n",
    "        raise NegativeException(\"Entered Radius is less than 0\")\n",
    "    else:\n",
    "        return 3.14*r*r"
   ]
  },
  {
   "cell_type": "code",
   "execution_count": 12,
   "id": "9f6a8534-6b32-4a79-aca9-1a3c3e58a227",
   "metadata": {},
   "outputs": [
    {
     "name": "stdin",
     "output_type": "stream",
     "text": [
      "Enter Radius of Circle -4\n"
     ]
    },
    {
     "name": "stdout",
     "output_type": "stream",
     "text": [
      "Entered Radius is less than 0\n"
     ]
    }
   ],
   "source": [
    "try:\n",
    "    r= int(input(\"Enter Radius of Circle\"))\n",
    "    print(\"Area of circle is \",area(r))\n",
    "except Exception as e:\n",
    "    print(e)"
   ]
  },
  {
   "cell_type": "code",
   "execution_count": null,
   "id": "c2cdbb80-2ffb-43ff-8bcf-40de1f01db26",
   "metadata": {},
   "outputs": [],
   "source": []
  }
 ],
 "metadata": {
  "kernelspec": {
   "display_name": "Python 3 (ipykernel)",
   "language": "python",
   "name": "python3"
  },
  "language_info": {
   "codemirror_mode": {
    "name": "ipython",
    "version": 3
   },
   "file_extension": ".py",
   "mimetype": "text/x-python",
   "name": "python",
   "nbconvert_exporter": "python",
   "pygments_lexer": "ipython3",
   "version": "3.10.8"
  }
 },
 "nbformat": 4,
 "nbformat_minor": 5
}
