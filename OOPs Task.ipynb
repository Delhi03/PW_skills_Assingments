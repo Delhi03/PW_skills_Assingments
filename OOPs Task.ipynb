{
 "cells": [
  {
   "cell_type": "markdown",
   "id": "5a2b7c2e-68d5-452f-ac64-eeafa42e7df5",
   "metadata": {},
   "source": [
    "## **<center> OOPs Task</center>**"
   ]
  },
  {
   "cell_type": "markdown",
   "id": "3d1733c2-f4ab-4576-b17c-77ec6d15406b",
   "metadata": {},
   "source": [
    "Q1, Create a vehicle class with an init method having instance variables as name_of_vehicle, max_speed\n",
    "and average_of_vehicle."
   ]
  },
  {
   "cell_type": "code",
   "execution_count": 1,
   "id": "f1ae9989-ed90-413f-b9fe-e863decdbbea",
   "metadata": {},
   "outputs": [],
   "source": [
    "class Vehicle:\n",
    "    \n",
    "     def __init__(self,name,max_speed,avg_of_vehicle):\n",
    "            self.name_of_vehicle= name\n",
    "            self.max_speed= max_speed\n",
    "            self.avg_of_vehicle=avg_of_vehicle\n",
    "            \n",
    "        "
   ]
  },
  {
   "cell_type": "code",
   "execution_count": null,
   "id": "0374d84a-3d53-4b17-8701-9336a7efad40",
   "metadata": {},
   "outputs": [],
   "source": []
  },
  {
   "cell_type": "markdown",
   "id": "a24e9833-52a5-4957-8037-aad2c05190de",
   "metadata": {},
   "source": [
    "Q2. Create a child class car from the vehicle class created in Que 1, which will inherit the vehicle class.\n",
    "Create a method named seating_capacity which takes capacity as an argument and returns the name of\n",
    "the vehicle and its seating capacity."
   ]
  },
  {
   "cell_type": "code",
   "execution_count": 14,
   "id": "16112d97-2762-48d7-aff6-cc793f553347",
   "metadata": {},
   "outputs": [],
   "source": [
    "class car(Vehicle):\n",
    "    \n",
    "    def seating_capacity(self,capacity):\n",
    "        self.seating_capacity=capacity\n",
    "        return self.seating_capacity, self.name_of_vehicle\n",
    "\n",
    "\n"
   ]
  },
  {
   "cell_type": "code",
   "execution_count": 15,
   "id": "926c1ebf-f7b1-433a-849b-5cf474d20245",
   "metadata": {},
   "outputs": [
    {
     "data": {
      "text/plain": [
       "(6, 'car1')"
      ]
     },
     "execution_count": 15,
     "metadata": {},
     "output_type": "execute_result"
    }
   ],
   "source": [
    "car1=car(\"car1\",90,15)\n",
    "car1.seating_capacity(6)"
   ]
  },
  {
   "cell_type": "code",
   "execution_count": null,
   "id": "831a54a0-a943-4574-8168-0bcfa01a405a",
   "metadata": {},
   "outputs": [],
   "source": []
  },
  {
   "cell_type": "markdown",
   "id": "30653152-2bde-44aa-a0a1-49d1f65f0e21",
   "metadata": {},
   "source": [
    "Q3. What is multiple inheritance? Write a python code to demonstrate multiple inheritance.\n",
    "\n",
    "Ans:\n",
    "Multiple inheritance is a feature in object-oriented programming where a class can inherit attributes and methods from multiple parent classes. In Python, a class can have more than one base class, and it inherits all the attributes and methods from these base classes. This allows for code reuse and the creation of complex class hierarchies."
   ]
  },
  {
   "cell_type": "code",
   "execution_count": 16,
   "id": "e420ca32-7a23-44ec-b121-7a7e29bb0939",
   "metadata": {},
   "outputs": [
    {
     "name": "stdout",
     "output_type": "stream",
     "text": [
      "This is test_A from class A\n",
      "This is test_B from class B\n",
      "This is test_B from class C\n"
     ]
    }
   ],
   "source": [
    "# Code for Multiple Inheritance\n",
    "\n",
    "class A:\n",
    "    def test_A(self):\n",
    "        print(\"This is test_A from class A\")\n",
    "        \n",
    "class B:\n",
    "    def test_B(self):\n",
    "        print(\"This is test_B from class B\")\n",
    "        \n",
    "class C(A,B):\n",
    "    def test_C(self):\n",
    "        print(\"This is test_B from class C\")\n",
    "        \n",
    "\n",
    "c1= C()\n",
    "c1.test_A()\n",
    "c1.test_B()\n",
    "c1.test_C()"
   ]
  },
  {
   "cell_type": "code",
   "execution_count": null,
   "id": "7f0a5259-47c5-4767-a96b-543cec5eeeb8",
   "metadata": {},
   "outputs": [],
   "source": []
  },
  {
   "cell_type": "markdown",
   "id": "09d83169-f344-4405-801c-da5fb9606fab",
   "metadata": {},
   "source": [
    "Q4. What are getter and setter in python? Create a class and create a getter and a setter method in this\n",
    "class.  \n",
    "\n",
    "Ans:  \n",
    "In Python, getter and setter methods are used to control access to the attributes (instance variables) of a class. They provide a way to read and modify the attribute values while encapsulating the internal representation of the data.  \n",
    "1.**Getter Method:** A getter method is used to access the value of an attribute. It allows us to retrieve the value of a private attribute (an attribute whose name starts with an underscore) and perform any necessary operations before returning the value.  \n",
    "2.**Setter Method:** A setter method is used to modify the value of an attribute. It allows us to set the value of a private attribute and perform any necessary validations or checks before assigning the new value."
   ]
  },
  {
   "cell_type": "code",
   "execution_count": 17,
   "id": "712243d4-a102-4cf1-92ae-0acfac696412",
   "metadata": {},
   "outputs": [
    {
     "data": {
      "text/plain": [
       "'Binod'"
      ]
     },
     "execution_count": 17,
     "metadata": {},
     "output_type": "execute_result"
    }
   ],
   "source": [
    "class Pet:\n",
    "    \n",
    "    def __init__(self,name):\n",
    "        self.__name=name\n",
    "    \n",
    "    def set_name(self,name):\n",
    "        self.__name=name\n",
    "        \n",
    "    def get_name(self):\n",
    "        return self.__name\n",
    "\n",
    "pet1= Pet(\"Birju\")\n",
    "pet1.set_name(\"Badal\")\n",
    "pet1.get_name()"
   ]
  },
  {
   "cell_type": "code",
   "execution_count": null,
   "id": "1104b7b1-b96c-47c8-b97a-baa76c1bdc8c",
   "metadata": {},
   "outputs": [],
   "source": []
  },
  {
   "cell_type": "markdown",
   "id": "64f95a05-da96-40f7-bd8f-c7c3e9febe93",
   "metadata": {},
   "source": [
    "Q5.What is method overriding in python? Write a python code to demonstrate method overriding.\n",
    "\n",
    "Ans:  \n",
    "Method overriding is a feature in object-oriented programming where a subclass provides a specific implementation for a method that is already defined in its superclass. The method in the subclass \"overrides\" the method with the same name in the superclass, providing a different behavior or functionality."
   ]
  },
  {
   "cell_type": "code",
   "execution_count": 12,
   "id": "d154fff8-fe31-42f5-a6fb-d56bb984674c",
   "metadata": {},
   "outputs": [
    {
     "name": "stdout",
     "output_type": "stream",
     "text": [
      "This is test method from class parent\n",
      "This is test method from class child\n"
     ]
    }
   ],
   "source": [
    "class parent:\n",
    "    def test(self):\n",
    "        print(\"This is test method from class parent\")\n",
    "        \n",
    "class child1:\n",
    "    def test(self):\n",
    "        print(\"This is test method from class child\")\n",
    "        \n",
    "obj1= parent()\n",
    "obj2= child1()\n",
    "obj1.test()\n",
    "obj2.test()"
   ]
  },
  {
   "cell_type": "code",
   "execution_count": null,
   "id": "6114f571-6cc6-4ce4-aca0-c890b00fefc1",
   "metadata": {},
   "outputs": [],
   "source": []
  }
 ],
 "metadata": {
  "kernelspec": {
   "display_name": "Python 3 (ipykernel)",
   "language": "python",
   "name": "python3"
  },
  "language_info": {
   "codemirror_mode": {
    "name": "ipython",
    "version": 3
   },
   "file_extension": ".py",
   "mimetype": "text/x-python",
   "name": "python",
   "nbconvert_exporter": "python",
   "pygments_lexer": "ipython3",
   "version": "3.10.8"
  }
 },
 "nbformat": 4,
 "nbformat_minor": 5
}
