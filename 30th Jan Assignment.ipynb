{
 "cells": [
  {
   "cell_type": "markdown",
   "id": "138c13ba-e615-4ae9-abc1-91be8d7222b1",
   "metadata": {},
   "source": [
    "## **30th Jan Assingment**"
   ]
  },
  {
   "cell_type": "code",
   "execution_count": null,
   "id": "beda826d-24f5-45b0-8c80-45d053dc2b59",
   "metadata": {},
   "outputs": [],
   "source": []
  },
  {
   "cell_type": "markdown",
   "id": "9ec58005-358b-4526-a360-5a2f2234cc1b",
   "metadata": {},
   "source": [
    "Write a program to accept percentage from the user and display the grade according to the following criteria"
   ]
  },
  {
   "cell_type": "code",
   "execution_count": 10,
   "id": "7c357e90-9248-48b5-86d3-c8c2e06cffd5",
   "metadata": {},
   "outputs": [
    {
     "name": "stdin",
     "output_type": "stream",
     "text": [
      "Enter Your Percentage 98\n"
     ]
    },
    {
     "name": "stdout",
     "output_type": "stream",
     "text": [
      "Your grade is A\n"
     ]
    }
   ],
   "source": [
    "n=  int(input(\"Enter Your Percentage\"))\n",
    "if n>90 and n<=100:\n",
    "    print(\"Your grade is A\")\n",
    "elif n>80 and n<=90:\n",
    "     print(\"Your grade is B\")\n",
    "elif n>60 and n<=80:\n",
    "     print(\"Your grade is C\")\n",
    "else: print(\"Your grade id D\")"
   ]
  },
  {
   "cell_type": "code",
   "execution_count": null,
   "id": "86aab6da-5f7a-4682-a35e-36fe1a98e436",
   "metadata": {},
   "outputs": [],
   "source": []
  },
  {
   "cell_type": "markdown",
   "id": "3e0d810c-6ac0-4146-9785-214d5dd59e3f",
   "metadata": {},
   "source": [
    "Write a program to accept bike price from the user and display the road tax according to the following criteria"
   ]
  },
  {
   "cell_type": "code",
   "execution_count": 14,
   "id": "e666fdd8-6129-4173-acd8-07075633cc68",
   "metadata": {},
   "outputs": [
    {
     "name": "stdin",
     "output_type": "stream",
     "text": [
      "Enter Your bike price 90000\n"
     ]
    },
    {
     "name": "stdout",
     "output_type": "stream",
     "text": [
      "Your Road tax is 9000.0\n"
     ]
    }
   ],
   "source": [
    "n=  int(input(\"Enter Your bike price\"))\n",
    "if n<=50000 :\n",
    "    print(\"Your Road tax is\",0.05*n)\n",
    "elif n>50000 and n<=100000:\n",
    "     print(\"Your Road tax is\",0.1*n)\n",
    "else:print(\"Your Road tax is\",0.15*n)"
   ]
  },
  {
   "cell_type": "code",
   "execution_count": null,
   "id": "4ba26d13-0c54-4131-8b86-98aaa33b0de7",
   "metadata": {},
   "outputs": [],
   "source": []
  },
  {
   "cell_type": "code",
   "execution_count": 22,
   "id": "b4df9772-a26e-4929-ab4f-a8ad2e07cee8",
   "metadata": {},
   "outputs": [
    {
     "name": "stdin",
     "output_type": "stream",
     "text": [
      "Enter City No. to Know monuments\n",
      "1.Delhi\n",
      "2.Jaipur\n",
      "3.Agra\n",
      " 1\n"
     ]
    },
    {
     "name": "stdout",
     "output_type": "stream",
     "text": [
      "Red Fort\n"
     ]
    }
   ],
   "source": [
    "n= int(input(\"Enter City No. to Know monuments\\n1.Delhi\\n2.Jaipur\\n3.Agra\\n\"))\n",
    "if n==1:\n",
    "    print(\"Red Fort\")\n",
    "elif n==2:\n",
    "    print(\"Jai Mahal\")\n",
    "elif n==3:\n",
    "    print(\"Taj Mahal\")\n",
    "else: print(\"Invalid Choise\")"
   ]
  },
  {
   "cell_type": "code",
   "execution_count": null,
   "id": "7df41bad-57ec-45c7-8f47-de4ea44389c2",
   "metadata": {},
   "outputs": [],
   "source": []
  },
  {
   "cell_type": "markdown",
   "id": "c3457519-5ff8-4bf0-8714-7615a587f32d",
   "metadata": {},
   "source": [
    "Check how many times no. can be divided before it get less than or equal to 10"
   ]
  },
  {
   "cell_type": "code",
   "execution_count": 25,
   "id": "878db1a7-edb5-471f-8d09-ec26c6a89c39",
   "metadata": {},
   "outputs": [
    {
     "name": "stdin",
     "output_type": "stream",
     "text": [
      "Enter the No. 12\n"
     ]
    },
    {
     "name": "stdout",
     "output_type": "stream",
     "text": [
      "No. can be divided by  1\n"
     ]
    }
   ],
   "source": [
    "n= int(input(\"Enter the No.\"))\n",
    "count=0\n",
    "while n>=10:\n",
    "    n/=3\n",
    "    count+=1\n",
    "print(\"No. can be divided by \",count)"
   ]
  },
  {
   "cell_type": "code",
   "execution_count": null,
   "id": "8fb226f9-6ed8-4844-99f3-528811d5bd47",
   "metadata": {},
   "outputs": [],
   "source": []
  },
  {
   "cell_type": "markdown",
   "id": "47a0b5f3-c2c4-4df8-9f27-0d5c901bbfc6",
   "metadata": {},
   "source": [
    "Why and When to use while loop in python give a detail discription with example.\n",
    "\n",
    "Ans:A while loop in Python is used when you want to repeatedly execute a block of code as long as a certain condition remains true. The loop will keep iterating until the condition evaluates to false. It's particularly useful when the number of iterations is not known beforehand, and you want to keep executing the code until a specific condition is met."
   ]
  },
  {
   "cell_type": "code",
   "execution_count": 5,
   "id": "ed4d736c-0066-4a4a-a86c-e0ca677d29e0",
   "metadata": {},
   "outputs": [
    {
     "name": "stdin",
     "output_type": "stream",
     "text": [
      "Enter the No. 550\n"
     ]
    },
    {
     "name": "stdout",
     "output_type": "stream",
     "text": [
      "No. can be divided by  6\n"
     ]
    }
   ],
   "source": [
    "# Example: to check how many times a no can be divided by 2 until it get less than or equal to 10\n",
    "n= int(input(\"Enter the No.\"))\n",
    "count=0\n",
    "while n>=10:\n",
    "    n/=2\n",
    "    count+=1\n",
    "print(\"No. can be divided by \",count)"
   ]
  },
  {
   "cell_type": "code",
   "execution_count": null,
   "id": "0bd99d64-00a3-4ea2-a441-6c861c6043dd",
   "metadata": {},
   "outputs": [],
   "source": []
  },
  {
   "cell_type": "markdown",
   "id": "b094ef06-53c8-4fb3-84b0-118afc3c43c7",
   "metadata": {},
   "source": [
    "Use nested nested while loop to print 3 different patterns"
   ]
  },
  {
   "cell_type": "code",
   "execution_count": 32,
   "id": "ea2893aa-1fef-4815-9eff-4163c235fea7",
   "metadata": {},
   "outputs": [
    {
     "name": "stdout",
     "output_type": "stream",
     "text": [
      "Pattern 1:\n",
      "\n",
      "* \n",
      "\n",
      "* * \n",
      "\n",
      "* * * \n",
      "\n",
      "* * * * \n",
      "\n",
      "* * * * * \n",
      "\n",
      "-----------------------\n",
      "Pattern 2:\n",
      "* * * * * \n",
      "\n",
      "* * * * * \n",
      "\n",
      "* * * * * \n",
      "\n",
      "* * * * * \n",
      "\n",
      "* * * * * \n",
      "\n",
      "-----------------------\n",
      "Pattern 3:\n",
      "          \n",
      "\n",
      "        * \n",
      "\n",
      "      * * \n",
      "\n",
      "    * * * \n",
      "\n",
      "  * * * * \n",
      "\n"
     ]
    }
   ],
   "source": [
    "print(\"Pattern 1:\\n\")\n",
    "i,j=0,0\n",
    "while i<=4:\n",
    "    j=0\n",
    "    while j<=i:\n",
    "        print(\"*\", end=\" \")\n",
    "        j+=1\n",
    "    i+=1\n",
    "    print(\"\\n\")\n",
    "print(\"-----------------------\")\n",
    "\n",
    "print(\"Pattern 2:\")\n",
    "i,j=0,0\n",
    "while i<=4:\n",
    "    j=0\n",
    "    while j<=4:\n",
    "        print(\"*\", end=\" \")\n",
    "        j+=1\n",
    "    i+=1\n",
    "    print(\"\\n\")\n",
    "print(\"-----------------------\")\n",
    "\n",
    "print(\"Pattern 3:\")\n",
    "i,j=0,0\n",
    "while i<=4:\n",
    "    a=4\n",
    "    j=0\n",
    "    while j<=a-i:\n",
    "        print(\" \", end=\" \")\n",
    "        j+=1\n",
    "    while j<=a:\n",
    "        print(\"*\" ,end=\" \")\n",
    "        j+=1\n",
    "    i+=1\n",
    "    print(\"\\n\")"
   ]
  },
  {
   "cell_type": "code",
   "execution_count": null,
   "id": "0cff5dad-d331-48a6-9d4b-d90a7dd7cf6c",
   "metadata": {},
   "outputs": [],
   "source": []
  },
  {
   "cell_type": "markdown",
   "id": "174a31f4-8290-41ec-bbed-5aad23e064f7",
   "metadata": {},
   "source": [
    "Reverse a while loop to diplay No. fro 10 to 1"
   ]
  },
  {
   "cell_type": "code",
   "execution_count": 33,
   "id": "92d48fe8-a53e-45cc-a975-dea3566b0f4c",
   "metadata": {},
   "outputs": [
    {
     "name": "stdout",
     "output_type": "stream",
     "text": [
      "10\n",
      "9\n",
      "8\n",
      "7\n",
      "6\n",
      "5\n",
      "4\n",
      "3\n",
      "2\n",
      "1\n"
     ]
    }
   ],
   "source": [
    "n=10\n",
    "while n>=1:\n",
    "    print(n)\n",
    "    n-=1"
   ]
  },
  {
   "cell_type": "code",
   "execution_count": null,
   "id": "fbae6c44-d286-42c7-8ee2-eed4d139bbbe",
   "metadata": {},
   "outputs": [],
   "source": []
  }
 ],
 "metadata": {
  "kernelspec": {
   "display_name": "Python 3 (ipykernel)",
   "language": "python",
   "name": "python3"
  },
  "language_info": {
   "codemirror_mode": {
    "name": "ipython",
    "version": 3
   },
   "file_extension": ".py",
   "mimetype": "text/x-python",
   "name": "python",
   "nbconvert_exporter": "python",
   "pygments_lexer": "ipython3",
   "version": "3.10.8"
  }
 },
 "nbformat": 4,
 "nbformat_minor": 5
}
