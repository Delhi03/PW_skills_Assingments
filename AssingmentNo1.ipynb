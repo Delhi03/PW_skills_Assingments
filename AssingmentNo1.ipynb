{
 "cells": [
  {
   "cell_type": "markdown",
   "id": "2f4f2dbb-293e-496c-8f5e-04f8719f9f7e",
   "metadata": {},
   "source": [
    "Assingment No.1\n"
   ]
  },
  {
   "cell_type": "markdown",
   "id": "ce809acc-0fc2-45da-9d32-8cd4ad49986d",
   "metadata": {},
   "source": [
    "Q1. Explain with an example each when to use a for loop and a while loop."
   ]
  },
  {
   "cell_type": "code",
   "execution_count": 1,
   "id": "55b12fd1-544d-41ba-9d20-91d8217a38f4",
   "metadata": {},
   "outputs": [
    {
     "name": "stdout",
     "output_type": "stream",
     "text": [
      "0\n",
      "1\n",
      "2\n",
      "3\n",
      "4\n",
      "5\n",
      "1\n",
      "2\n",
      "3\n",
      "4\n",
      "5\n"
     ]
    }
   ],
   "source": [
    "## For Loop\n",
    "\"\"\"Use a for loop when you know in advance how many times you want to repeat a certain block of code. \n",
    "It's particularly useful when you have a specific range or sequence of elements to iterate through.\"\"\"\n",
    "\n",
    "## print series 0 to 5\n",
    "for i in range(0,6):\n",
    "    print(i)\n",
    "\n",
    "## While Loop\n",
    "#Use a while loop when you want to repeat a block of code as long as a specific condition is true.\n",
    "# print series 0 to 5\n",
    "j=1\n",
    "while j<=5:\n",
    "    print(j)\n",
    "    j+=1\n"
   ]
  },
  {
   "cell_type": "markdown",
   "id": "fe96dc30-f2d4-47ce-b462-4904d96f141d",
   "metadata": {},
   "source": [
    "Q2. Write a python program to print the sum and product of the first 10 natural numbers using for and while loop"
   ]
  },
  {
   "cell_type": "code",
   "execution_count": null,
   "id": "3ccd170b-db00-454e-a9e8-b9e376b0c947",
   "metadata": {},
   "outputs": [
    {
     "name": "stdout",
     "output_type": "stream",
     "text": [
      "sum of first 10 natural No. is %d 55\n",
      "Product of first 10 natural No. is %d 3628800\n"
     ]
    }
   ],
   "source": [
    "# By Using for Loop\n",
    "sum=0\n",
    "product=1\n",
    "for i in range(1,11):\n",
    "    sum+=i\n",
    "    product*=i\n",
    "    \n",
    "print(\"sum of first 10 natural No. is %d\",sum)\n",
    "print(\"Product of first 10 natural No. is %d\",product)\n",
    "\n",
    "## By using while Loop\n",
    "j=1\n",
    "sum=0\n",
    "product=1\n",
    "while j <=10:\n",
    "     sum+=j\n",
    "     product*=i\n",
    "print(\"sum of first 10 natural No. is %d\",sum)\n",
    "print(\"Product of first 10 natural No. is %d\",product)\n",
    "    "
   ]
  },
  {
   "cell_type": "markdown",
   "id": "2e4cf8a0-921e-490d-ac99-e5663234cbbd",
   "metadata": {},
   "source": [
    "# Q3. Create a python program to compute the electricity bill for a household.\n",
    "# The per-unit charges in rupees are as follows: For the first 100 units, the user will be charged Rs. 4.5 per\n",
    "# unit, for the next 100 units, the user will be charged Rs. 6 per unit, and for the next 100 units, the user will\n",
    "# be charged Rs. 10 per unit, After 300 units and above the user will be charged Rs. 20 per unit."
   ]
  },
  {
   "cell_type": "code",
   "execution_count": 12,
   "id": "9e0775da-4d40-4e7a-89d6-af48a71e416b",
   "metadata": {},
   "outputs": [
    {
     "name": "stdin",
     "output_type": "stream",
     "text": [
      "Enter the Units 101\n"
     ]
    },
    {
     "name": "stdout",
     "output_type": "stream",
     "text": [
      "Electricity biil is %d 456\n"
     ]
    }
   ],
   "source": [
    "n= int(input(\"Enter the Units\"))\n",
    "unit_cost=0\n",
    "if n>0 and n<=100:\n",
    "    unit_cost=n*4.5\n",
    "elif n>100 and n<=200:\n",
    "    unit_cost=450 + (n-100)*6\n",
    "elif n>200 and n<=300:\n",
    "    unit_cost=450+600 + (n-200)*10\n",
    "else :unit_cost= 450+600+100+(n-300)*20\n",
    "print(\"Electricity biil is %d\",unit_cost)"
   ]
  },
  {
   "cell_type": "code",
   "execution_count": null,
   "id": "0255c41b-7922-4d1e-aa72-ca0e2d02ab36",
   "metadata": {},
   "outputs": [],
   "source": [
    "# Q4. Create a list of numbers from 1 to 100. Use for loop and while loop to calculate the cube of each\n",
    "# number and if the cube of that number is divisible by 4 or 5 then append that number in a list and print\n",
    "# that list."
   ]
  },
  {
   "cell_type": "code",
   "execution_count": null,
   "id": "163e0519-849a-4a70-9fe2-268d559bdf1c",
   "metadata": {},
   "outputs": [
    {
     "name": "stdout",
     "output_type": "stream",
     "text": [
      "[0, 10, 20, 30, 40, 50, 60, 70, 80, 90, 100]\n"
     ]
    }
   ],
   "source": [
    "l= [i for i in range(0,101)]\n",
    "\n",
    "## By using for loop\n",
    "l1=[]\n",
    "for i in l:\n",
    "    if (i**3)%4==0 and (i**3)%5==0:\n",
    "        l1.append(i)\n",
    "print(l1)\n",
    "## By using while loop\n",
    "l2=[]\n",
    "j=0\n",
    "while j<=100:\n",
    "    if (j**3)%4==0 and (j**3)%5==0:\n",
    "        l2.append(j)\n",
    "print(l2)"
   ]
  },
  {
   "cell_type": "code",
   "execution_count": 1,
   "id": "62ed54c8-cafa-4eb1-856f-d11b8b7feb66",
   "metadata": {},
   "outputs": [
    {
     "name": "stdout",
     "output_type": "stream",
     "text": [
      "No. of vowels is %d 11\n"
     ]
    }
   ],
   "source": [
    "# Q5. Write a program to filter count vowels in the below-given string. string = \"I want to become a data scientist\"\n",
    "\n",
    "string= \"I want to become a data scientist\"\n",
    "count=0\n",
    "for i in range(0,len(string)-1):\n",
    "    if string[i] == \"a\" or string[i] == \"e\" or string[i] == \"i\" or string[i] == \"o\" or string[i] == \"u\":\n",
    "        count+=1\n",
    "print(\"No. of vowels is %d\",count)"
   ]
  },
  {
   "cell_type": "code",
   "execution_count": null,
   "id": "6a04d6bb-a3e2-4bd3-b532-5937ad0c8f2c",
   "metadata": {},
   "outputs": [],
   "source": [
    "1+2"
   ]
  },
  {
   "cell_type": "code",
   "execution_count": null,
   "id": "cd55c273-3edf-4016-8448-a7f030019955",
   "metadata": {},
   "outputs": [],
   "source": []
  },
  {
   "cell_type": "code",
   "execution_count": null,
   "id": "25dcf41a-15d0-4627-a0b7-48a9c1da47ff",
   "metadata": {},
   "outputs": [],
   "source": []
  }
 ],
 "metadata": {
  "kernelspec": {
   "display_name": "Python 3 (ipykernel)",
   "language": "python",
   "name": "python3"
  },
  "language_info": {
   "codemirror_mode": {
    "name": "ipython",
    "version": 3
   },
   "file_extension": ".py",
   "mimetype": "text/x-python",
   "name": "python",
   "nbconvert_exporter": "python",
   "pygments_lexer": "ipython3",
   "version": "3.10.8"
  }
 },
 "nbformat": 4,
 "nbformat_minor": 5
}
