{
 "cells": [
  {
   "cell_type": "markdown",
   "id": "f3fb7d1c-67bc-4120-b89a-527fcb690815",
   "metadata": {},
   "source": [
    "##  **Python Task 2**"
   ]
  },
  {
   "cell_type": "code",
   "execution_count": null,
   "id": "55c4e829-c393-44bb-8634-1ef00ae7e3aa",
   "metadata": {},
   "outputs": [],
   "source": []
  },
  {
   "cell_type": "markdown",
   "id": "30204610-9d80-44a9-bca3-1d297eb955ab",
   "metadata": {},
   "source": [
    "Q1. You are writing code for a company. The requirement of the company is that you create a python\n",
    "function that will check whether the password entered by the user is correct or not. The function should\n",
    "take the password as input and return the string “Valid Password” if the entered password follows the\n",
    "below-given password guidelines else it should return “Invalid Password”.\n",
    "\n",
    "Note: \n",
    "    \n",
    "1. The Password should contain at least two uppercase letters and at least two lowercase letters.\n",
    "2. The Password should contain at least a number and three special characters.\n",
    "3. The length of the password should be 10 characters long."
   ]
  },
  {
   "cell_type": "code",
   "execution_count": 8,
   "id": "e4179759-24fc-4503-9d38-3c0adb36d7fa",
   "metadata": {},
   "outputs": [],
   "source": [
    "def isValid(password):\n",
    "    up=0\n",
    "    low=0\n",
    "    num=0\n",
    "    sp=0\n",
    " \n",
    "    for i in password:\n",
    "        if i=='!' or i=='@' or i=='#' or i=='$' or i=='%' or i=='^' or i=='&' or i=='*':\n",
    "            sp+=1\n",
    "        if i=='1' or i=='2' or i=='3' or i=='4' or i=='5' or i=='6' or i=='7' or i=='8' or i=='9' or i=='0':\n",
    "            num+=1\n",
    "        if i.isupper()==True:\n",
    "            up+=1\n",
    "        if i.islower()==True:\n",
    "            low+=1\n",
    "        \n",
    "    if len(password)!=10 or up<2 or low<2 or num<2 or sp<3:\n",
    "        return \"Invalid Password\"\n",
    "    else: return \"Valid Password\"\n",
    "    \n"
   ]
  },
  {
   "cell_type": "code",
   "execution_count": 10,
   "id": "6b685eb1-8d17-4149-a6a7-f67ea21753fe",
   "metadata": {},
   "outputs": [
    {
     "name": "stdin",
     "output_type": "stream",
     "text": [
      "Enter your Password @yu$#SW431\n"
     ]
    },
    {
     "data": {
      "text/plain": [
       "'Valid Password'"
      ]
     },
     "execution_count": 10,
     "metadata": {},
     "output_type": "execute_result"
    }
   ],
   "source": [
    "password=input(\"Enter your Password\")\n",
    "isValid(password)"
   ]
  },
  {
   "cell_type": "code",
   "execution_count": 11,
   "id": "7067a33c-782c-47e9-bc6b-d1df6b034775",
   "metadata": {},
   "outputs": [
    {
     "name": "stdin",
     "output_type": "stream",
     "text": [
      "Enter your Password Ayu$#431@1\n"
     ]
    },
    {
     "data": {
      "text/plain": [
       "'Invalid Password'"
      ]
     },
     "execution_count": 11,
     "metadata": {},
     "output_type": "execute_result"
    }
   ],
   "source": [
    "password2=input(\"Enter your Password\")\n",
    "isValid(password2)"
   ]
  },
  {
   "cell_type": "code",
   "execution_count": null,
   "id": "61ea9edd-13d3-4618-89b7-709756c2c62e",
   "metadata": {},
   "outputs": [],
   "source": []
  },
  {
   "cell_type": "markdown",
   "id": "5e3097b9-1787-4e96-9788-1f9defe231c8",
   "metadata": {},
   "source": [
    "**Q2. Solve the below-given questions using at least one of the following:**\n",
    "1. Lambda function\n",
    "2. Filter function\n",
    "3. map function\n",
    "4. List Comprehension"
   ]
  },
  {
   "cell_type": "markdown",
   "id": "c6182e2f-d8cd-4485-b047-65d8e70f7b7c",
   "metadata": {},
   "source": [
    "A.Check if the string starts with a particular letter"
   ]
  },
  {
   "cell_type": "code",
   "execution_count": 17,
   "id": "508fae4b-d124-4c71-be00-4818f36e1160",
   "metadata": {},
   "outputs": [
    {
     "name": "stdin",
     "output_type": "stream",
     "text": [
      "Enter your String Ayush\n",
      "Enter particular letter to check A\n"
     ]
    },
    {
     "data": {
      "text/plain": [
       "True"
      ]
     },
     "execution_count": 17,
     "metadata": {},
     "output_type": "execute_result"
    }
   ],
   "source": [
    "string=input(\"Enter your String\")\n",
    "check=input(\"Enter particular letter to check\")\n",
    "isstart= lambda x,y: True if x[0]==y else False\n",
    "isstart(string,check)"
   ]
  },
  {
   "cell_type": "code",
   "execution_count": null,
   "id": "a5d8de6f-9e45-4ee5-aff7-a13bd1a8091f",
   "metadata": {},
   "outputs": [],
   "source": []
  },
  {
   "cell_type": "markdown",
   "id": "86225f11-f751-4304-82c4-0ed6f729a524",
   "metadata": {},
   "source": [
    "Check if the string is numeric"
   ]
  },
  {
   "cell_type": "code",
   "execution_count": 55,
   "id": "f9654e92-c959-482c-8d3d-07fdfa3b5a98",
   "metadata": {},
   "outputs": [
    {
     "name": "stdin",
     "output_type": "stream",
     "text": [
      "Enter Your String Ayush5466\n"
     ]
    },
    {
     "name": "stdout",
     "output_type": "stream",
     "text": [
      "Numeric\n"
     ]
    }
   ],
   "source": [
    "string=str(input(\"Enter Your String\"))\n",
    "l=list(map(lambda x: x.isdigit(),iter(string)))\n",
    "for i in l:\n",
    "    if i==True:\n",
    "        print(\"Numeric\")\n",
    "        break\n",
    "else: print(\"Not Numeric\")"
   ]
  },
  {
   "cell_type": "code",
   "execution_count": null,
   "id": "88aaa51e-de4a-443e-804c-2a6504664e84",
   "metadata": {},
   "outputs": [],
   "source": []
  },
  {
   "cell_type": "markdown",
   "id": "1235d85c-c1d2-4a60-935f-a9e2204645d7",
   "metadata": {},
   "source": [
    " Sort a list of tuples having fruit names and their quantity.\n",
    "[(\"mango\",99),(\"orange\",80), (\"grapes\", 1000)]"
   ]
  },
  {
   "cell_type": "code",
   "execution_count": 36,
   "id": "a17f1f90-5a32-4937-854a-de734ed516a2",
   "metadata": {},
   "outputs": [
    {
     "name": "stdout",
     "output_type": "stream",
     "text": [
      "['mango', 'orange', 'grapes']\n",
      "[99, 80, 1000]\n"
     ]
    }
   ],
   "source": [
    "l=[(\"mango\",99),(\"orange\",80), (\"grapes\", 1000)]\n",
    "from functools import reduce\n",
    "l1= list(reduce(lambda x,y: list(x)+list(y), l))\n",
    "names=list(filter(lambda x: type(x)==str,l1))\n",
    "quantity=list(filter(lambda x: type(x)==int,l1))\n",
    "print(names)\n",
    "print(quantity)"
   ]
  },
  {
   "cell_type": "code",
   "execution_count": null,
   "id": "b067c39c-3ae2-4d4d-898f-4f99f1c525cf",
   "metadata": {},
   "outputs": [],
   "source": []
  },
  {
   "cell_type": "markdown",
   "id": "df8bbe2d-4f7f-4b5a-848b-a6f4bca01df8",
   "metadata": {},
   "source": [
    "Find the squares of numbers from 1 to 10"
   ]
  },
  {
   "cell_type": "code",
   "execution_count": 40,
   "id": "2aac9279-6755-4dc9-9646-11be1d1b8fc5",
   "metadata": {},
   "outputs": [
    {
     "data": {
      "text/plain": [
       "[1, 4, 9, 16, 25, 36, 49, 64, 81, 100]"
      ]
     },
     "execution_count": 40,
     "metadata": {},
     "output_type": "execute_result"
    }
   ],
   "source": [
    "l=[i*i for i in range(1,11)]\n",
    "l"
   ]
  },
  {
   "cell_type": "code",
   "execution_count": null,
   "id": "8876b63f-80c4-46bc-b10b-6f28cc284cf7",
   "metadata": {},
   "outputs": [],
   "source": []
  },
  {
   "cell_type": "markdown",
   "id": "7cfd3db0-9df4-4311-8155-794a8f01bc9f",
   "metadata": {},
   "source": [
    "Find the cube root of numbers from 1 to 10"
   ]
  },
  {
   "cell_type": "code",
   "execution_count": 41,
   "id": "7116c24f-d2da-4174-8abc-1cd9adf73e22",
   "metadata": {},
   "outputs": [
    {
     "data": {
      "text/plain": [
       "[1, 8, 27, 64, 125, 216, 343, 512, 729, 1000]"
      ]
     },
     "execution_count": 41,
     "metadata": {},
     "output_type": "execute_result"
    }
   ],
   "source": [
    "l=[i**3 for i in range(1,11)]\n",
    "l"
   ]
  },
  {
   "cell_type": "code",
   "execution_count": null,
   "id": "ecbb033b-1779-4edf-bf01-b0d17d378a36",
   "metadata": {},
   "outputs": [],
   "source": []
  },
  {
   "cell_type": "markdown",
   "id": "1020ae3d-2162-4e7b-9f85-4f943e50464a",
   "metadata": {},
   "source": [
    "Check if a given number is even"
   ]
  },
  {
   "cell_type": "code",
   "execution_count": 44,
   "id": "29dc749a-4031-4cb8-832e-531c18795142",
   "metadata": {},
   "outputs": [
    {
     "data": {
      "text/plain": [
       "True"
      ]
     },
     "execution_count": 44,
     "metadata": {},
     "output_type": "execute_result"
    }
   ],
   "source": [
    "iseven= lambda x:True if x%2==0 else False\n",
    "iseven(22)"
   ]
  },
  {
   "cell_type": "code",
   "execution_count": null,
   "id": "4168fd97-6ab5-4826-b579-ad36d48f5dc5",
   "metadata": {},
   "outputs": [],
   "source": []
  },
  {
   "cell_type": "markdown",
   "id": "54ee125c-6d90-4d7e-9f19-78dd78e844d0",
   "metadata": {},
   "source": [
    "Filter odd numbers from the given list."
   ]
  },
  {
   "cell_type": "code",
   "execution_count": 46,
   "id": "84f6ef06-a9c1-4285-b113-e230cbf505ff",
   "metadata": {},
   "outputs": [
    {
     "data": {
      "text/plain": [
       "[1, 3, 5, 7, 9]"
      ]
     },
     "execution_count": 46,
     "metadata": {},
     "output_type": "execute_result"
    }
   ],
   "source": [
    "l=[i for i in range(1,10)]\n",
    "list(filter(lambda x: x%2!=0,l))"
   ]
  },
  {
   "cell_type": "code",
   "execution_count": null,
   "id": "453458f4-268a-42ad-b3e1-afcebe693ad1",
   "metadata": {},
   "outputs": [],
   "source": []
  },
  {
   "cell_type": "markdown",
   "id": "7e99e29f-6a65-44e8-b87b-9318507cd4ef",
   "metadata": {},
   "source": [
    "Sort a list of integers into positive and negative integers lists.\n",
    "[1,2,3,4,5,6,-1,-2,-3,-4,-5,0]"
   ]
  },
  {
   "cell_type": "code",
   "execution_count": 51,
   "id": "e12e8192-d07f-47a8-b724-1d264ddf982e",
   "metadata": {},
   "outputs": [
    {
     "name": "stdout",
     "output_type": "stream",
     "text": [
      "[1, 2, 3, 4, 5, 6]\n",
      "[-1, -2, -3, -4, -5]\n"
     ]
    }
   ],
   "source": [
    "l=[1,2,3,4,5,6,-1,-2,-3,-4,-5,0]\n",
    "positive=list(filter(lambda x: x>0,l))\n",
    "neg=list(filter(lambda x: x<0,l))\n",
    "print(positive)\n",
    "print(neg)"
   ]
  },
  {
   "cell_type": "code",
   "execution_count": null,
   "id": "e9c69413-bed6-4073-8075-28f74dad46b3",
   "metadata": {},
   "outputs": [],
   "source": []
  }
 ],
 "metadata": {
  "kernelspec": {
   "display_name": "Python 3 (ipykernel)",
   "language": "python",
   "name": "python3"
  },
  "language_info": {
   "codemirror_mode": {
    "name": "ipython",
    "version": 3
   },
   "file_extension": ".py",
   "mimetype": "text/x-python",
   "name": "python",
   "nbconvert_exporter": "python",
   "pygments_lexer": "ipython3",
   "version": "3.10.8"
  }
 },
 "nbformat": 4,
 "nbformat_minor": 5
}
