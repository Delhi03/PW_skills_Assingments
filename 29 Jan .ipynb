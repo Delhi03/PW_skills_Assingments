{
 "cells": [
  {
   "cell_type": "markdown",
   "id": "26f3fa43-ec2f-453e-a376-7cd3397afb56",
   "metadata": {},
   "source": [
    "29 Jan 2023 Assignment"
   ]
  },
  {
   "cell_type": "markdown",
   "id": "e8462745-b849-43c4-a6c6-dc95445523ca",
   "metadata": {},
   "source": [
    "Q1. Who develop python programming language\n",
    "\n",
    "Ans:  Python programming language was created by Guido van Rossum.\n",
    "\n"
   ]
  },
  {
   "cell_type": "code",
   "execution_count": null,
   "id": "a44e3f41-8c69-423a-9d97-77fc40ab4166",
   "metadata": {},
   "outputs": [],
   "source": []
  },
  {
   "cell_type": "markdown",
   "id": "6b3cf4e5-5a71-4181-99ba-4213337c3a4f",
   "metadata": {},
   "source": [
    "Q2. Which type of programing does python supports?\n",
    "\n",
    "Ans:\n",
    "Python supports the following programming paradigms:\n",
    "1. Procedural Programming: Organizing code as a sequence of steps or procedures.\n",
    "2. Object-Oriented Programming (OOP): Using classes and objects for data and behavior encapsulation.\n",
    "3. Functional Programming: Utilizing higher-order functions and lambda expressions.\n",
    "4. Imperative Programming: Modifying program state through direct statements.\n",
    "5. Event-Driven Programming: Defining event handlers to respond to events or signals.\n",
    "6. Metaprogramming: Modifying or generating code dynamically using introspection."
   ]
  },
  {
   "cell_type": "code",
   "execution_count": null,
   "id": "abe91dc3-e54e-4d6e-a2be-91d0091e2cd8",
   "metadata": {},
   "outputs": [],
   "source": []
  },
  {
   "cell_type": "markdown",
   "id": "29d6ec34-0c2d-4747-89ea-62d34394b9aa",
   "metadata": {},
   "source": [
    "Q3. is python is case sensitive while dealing with identifiers?\n",
    "\n",
    "Ans: Yes, Python is case-sensitive when dealing with identifiers. \n",
    "    "
   ]
  },
  {
   "cell_type": "code",
   "execution_count": null,
   "id": "9f1bb344-da58-4bdd-8c19-2202a55c0009",
   "metadata": {},
   "outputs": [],
   "source": []
  },
  {
   "cell_type": "markdown",
   "id": "64948af1-3bbc-4490-b618-5b6519c3e8ef",
   "metadata": {},
   "source": [
    "Correct Extension for python file:   \".py\""
   ]
  },
  {
   "cell_type": "code",
   "execution_count": null,
   "id": "8a516f82-6bd1-4c0d-a1b4-4a505122cc7d",
   "metadata": {},
   "outputs": [],
   "source": []
  },
  {
   "cell_type": "markdown",
   "id": "d9e9ca87-3e3d-4c46-b71c-1ce0037ebdc3",
   "metadata": {},
   "source": [
    "Q5. is python code is compiled or interpretered ?\n",
    "\n",
    "  Ans:  Python code is both compiled and interpreted."
   ]
  },
  {
   "cell_type": "code",
   "execution_count": null,
   "id": "1f88bb8f-4d7c-414d-9aff-07eea79a326b",
   "metadata": {},
   "outputs": [],
   "source": []
  },
  {
   "cell_type": "markdown",
   "id": "27a6d9a3-5ab7-4756-a2cd-3b034169fae7",
   "metadata": {},
   "source": [
    "Name few block of code used to define python language\n",
    "\n",
    "Ans: \n",
    "In Python, there are several essential block structures used to define the language and \n",
    "organize code. These blocks are typically defined using indentation, which is a crucial \n",
    "aspect of Python's syntax. Here are a few key blocks of code used in Python:"
   ]
  },
  {
   "cell_type": "code",
   "execution_count": 8,
   "id": "e11c4b8e-6897-4f25-afc5-b0c410ec8078",
   "metadata": {},
   "outputs": [],
   "source": [
    "#  Function block: def method():\n",
    "#  while loop block:    while condition:\n",
    "#  for loop block  :    for i in range(): "
   ]
  },
  {
   "cell_type": "code",
   "execution_count": null,
   "id": "7ed70153-2c4c-47e6-a5f6-943978d75fa2",
   "metadata": {},
   "outputs": [],
   "source": []
  },
  {
   "cell_type": "markdown",
   "id": "973718ea-265a-4c70-a73e-6b28ac2e78fc",
   "metadata": {},
   "source": [
    "State a charector used to give single line command in python\n",
    "\n",
    "Ans:  #"
   ]
  },
  {
   "cell_type": "code",
   "execution_count": null,
   "id": "9c1892ce-30e3-4856-b4e8-0d8956898c74",
   "metadata": {},
   "outputs": [],
   "source": []
  },
  {
   "cell_type": "markdown",
   "id": "27cd86e6-fa76-4b68-8634-be5d0ec61cf7",
   "metadata": {},
   "source": [
    "Mention the function which can help us to find the version of python\n",
    "that we are currently working on?"
   ]
  },
  {
   "cell_type": "code",
   "execution_count": 11,
   "id": "ed25daad-a961-4f0a-86d7-280c7add6127",
   "metadata": {},
   "outputs": [
    {
     "name": "stdout",
     "output_type": "stream",
     "text": [
      "3.10.8 | packaged by conda-forge | (main, Nov 22 2022, 08:26:04) [GCC 10.4.0]\n"
     ]
    }
   ],
   "source": [
    "import sys\n",
    "print(sys.version)"
   ]
  },
  {
   "cell_type": "code",
   "execution_count": null,
   "id": "f31f4675-16ef-4034-93a1-5816b68eefa8",
   "metadata": {},
   "outputs": [],
   "source": []
  },
  {
   "cell_type": "markdown",
   "id": "54a076d3-ec8e-41a8-a321-92262b24cb75",
   "metadata": {},
   "source": [
    "Python supports the creation of anonymous function at runtime,\n",
    "using a constructor________\n",
    "\n",
    "Ans:  lambda"
   ]
  },
  {
   "cell_type": "code",
   "execution_count": 14,
   "id": "4af9305d-292e-4e61-ad1c-d2daf2699950",
   "metadata": {},
   "outputs": [],
   "source": [
    "add= lambda x,y:x+y"
   ]
  },
  {
   "cell_type": "code",
   "execution_count": null,
   "id": "14fa9f67-8a80-4069-859c-ee1155f656a0",
   "metadata": {},
   "outputs": [],
   "source": []
  },
  {
   "cell_type": "markdown",
   "id": "2bdc73a5-d936-4371-9bdf-9ab22534946d",
   "metadata": {},
   "source": [
    "what does pip stands for in python?\n",
    "\n",
    "Ans:  \"Pip Install Packages\""
   ]
  },
  {
   "cell_type": "code",
   "execution_count": null,
   "id": "b26eb198-a27a-479d-bae7-689f9bb219af",
   "metadata": {},
   "outputs": [],
   "source": []
  },
  {
   "cell_type": "markdown",
   "id": "a1de3b5a-5653-4db5-aedd-5a1af09f1b56",
   "metadata": {},
   "source": [
    "Mention a few built-in function in python ?\n",
    "\n",
    "Ans:\n",
    "type(),\n",
    "print(),\n",
    "int(),\n",
    "str(),\n",
    "float(),\n",
    "append()\n"
   ]
  },
  {
   "cell_type": "code",
   "execution_count": null,
   "id": "a55368df-4dd9-4513-bc89-25a10d558f57",
   "metadata": {},
   "outputs": [],
   "source": []
  },
  {
   "cell_type": "markdown",
   "id": "d0aae2e9-639c-4291-9517-2274919b81e6",
   "metadata": {},
   "source": [
    "What is maximum possible length of an identifier in python?\n",
    "\n",
    "Ans:\n",
    "In Python, the maximum possible length of an identifier is not explicitly defined. However, there are practical limitations based on the underlying system's limitations and coding standards.\n",
    "\n",
    "Python follows the \"PEP 8\" style guide, which recommends limiting line lengths to 79 characters. "
   ]
  },
  {
   "cell_type": "code",
   "execution_count": null,
   "id": "934b0ecf-7ce4-45a8-bd7d-fd0b10bfe9ab",
   "metadata": {},
   "outputs": [],
   "source": []
  },
  {
   "cell_type": "markdown",
   "id": "59a5c2ec-c300-43ff-91ac-bac787442462",
   "metadata": {},
   "source": [
    "what are the benefit of using python?\n",
    "\n",
    "Ans:\n",
    "The benefits of using Python are:\n",
    "1. Easy to learn and read with simple syntax.\n",
    "2. Vast library and framework support for various tasks.\n",
    "3. Cross-platform compatibility.\n",
    "4. Strong community support and resources.\n",
    "5. High productivity and development speed.\n",
    "6. Flexible and versatile with multiple programming paradigms.\n",
    "7. Easy integration with other languages.\n",
    "8. Ideal for rapid prototyping and proof-of-concept development.\n",
    "9. High demand and excellent career opportunities.\n",
    "10. Open-source and free to use."
   ]
  },
  {
   "cell_type": "code",
   "execution_count": null,
   "id": "de54b1cc-c470-4a95-b055-f5dfbbedd2e6",
   "metadata": {},
   "outputs": [],
   "source": []
  },
  {
   "cell_type": "markdown",
   "id": "1bd9f907-51c1-4d6a-b1dd-1db0142218a0",
   "metadata": {},
   "source": [
    "How is memory managed in python?\n",
    "\n",
    "Ans:\n",
    "Memory management in Python is handled automatically through a combination of techniques, including garbage collection and reference counting. Python uses a private heap space to manage memory, where all objects and data structures are stored."
   ]
  },
  {
   "cell_type": "code",
   "execution_count": null,
   "id": "954c0942-d542-4c20-b764-80380a693389",
   "metadata": {},
   "outputs": [],
   "source": []
  },
  {
   "cell_type": "markdown",
   "id": "f1940e3f-80bc-4f05-987b-ee09f2dd9f5f",
   "metadata": {},
   "source": [
    "How to install python on Windows and set path variables?\n",
    "Ans:\n",
    "\n",
    "1. **Download Python:** Go to the Python website, download the installer for Windows, and run it.\n",
    "\n",
    "2. **Install Python:** During the installation, make sure to check \"Add Python x.x to PATH.\"\n",
    "\n",
    "3. **Verify Installation:** Open Command Prompt, type \"python,\" and verify Python is installed and accessible.\n",
    "\n",
    "4. **Set Up PATH (Optional):** If not added during installation, manually add Python's installation path to the system's PATH variable.\n",
    "\n",
    "5. **Verify PATH (Optional):** Open a new Command Prompt window, type \"python,\" and confirm Python can be accessed from any directory."
   ]
  },
  {
   "cell_type": "code",
   "execution_count": null,
   "id": "6bef97a4-0641-4d59-bee8-58a7e3ad444b",
   "metadata": {},
   "outputs": [],
   "source": []
  },
  {
   "cell_type": "markdown",
   "id": "c32ebbfd-a698-4947-85ae-c5e6d6296f24",
   "metadata": {},
   "source": [
    "is indentation is requried in python?\n",
    "Ans:\n",
    "\n",
    "    Yes, indentation is required in Python. In Python, indentation is used to define the grouping of statements\n",
    "    within a block of code. Unlike other programming languages that use braces {} to denote code blocks, Python\n",
    "    uses indentation to represent the logical structure of the program."
   ]
  },
  {
   "cell_type": "code",
   "execution_count": null,
   "id": "fcd83aae-4842-4c75-9650-3a03d5629a9c",
   "metadata": {},
   "outputs": [],
   "source": []
  }
 ],
 "metadata": {
  "kernelspec": {
   "display_name": "Python 3 (ipykernel)",
   "language": "python",
   "name": "python3"
  },
  "language_info": {
   "codemirror_mode": {
    "name": "ipython",
    "version": 3
   },
   "file_extension": ".py",
   "mimetype": "text/x-python",
   "name": "python",
   "nbconvert_exporter": "python",
   "pygments_lexer": "ipython3",
   "version": "3.10.8"
  }
 },
 "nbformat": 4,
 "nbformat_minor": 5
}
