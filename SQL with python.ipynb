{
 "cells": [
  {
   "cell_type": "markdown",
   "id": "062f9ef2-e68d-4309-ad59-9d0101228269",
   "metadata": {},
   "source": [
    "## SQL with python"
   ]
  },
  {
   "cell_type": "markdown",
   "id": "a824c363-cd62-4f63-b6f4-4e3de21ec655",
   "metadata": {},
   "source": [
    "Q1. What is a database? Differentiate between SQL and NoSQL databases.  \n",
    "Ans:  \n",
    "A database is a structured collection of data that is organized, stored, and managed for easy access, retrieval, and manipulation. It serves as a central repository for various types of information and supports efficient data storage, retrieval, and management.  \n",
    "SQL (Structured Query Language) and NoSQL (Not Only SQL) are two main categories of databases, each with its own characteristics, use cases, and advantages. Here's a differentiation between them:  \n",
    "\n",
    "SQL Databases:  \n",
    "Structure: SQL databases use a structured schema to define the data model. Data is stored in tables with predefined columns and data types.  \n",
    "Data Integrity: SQL databases emphasize strong data integrity through features like constraints, foreign keys, and transactions. ACID (Atomicity, Consistency, Isolation, Durability) properties ensure data reliability.  \n",
    "Scalability: SQL databases are generally vertically scalable, which means they can handle increased load by upgrading hardware. Some modern SQL databases also support horizontal scaling to some extent.  \n",
    "Query Language: SQL databases use the SQL language for querying and managing data. SQL provides a standardized way to interact with relational databases.  \n",
    "Consistency: SQL databases provide strong consistency, ensuring that data remains accurate and reliable even during concurrent operations.  \n",
    "Data Relationships: SQL databases are well-suited for applications with complex relationships between data entities, such as those requiring joins and foreign key relationships.  \n",
    "\n",
    "NoSQL Databases:  \n",
    "Structure: NoSQL databases offer more flexible data models and can store data in various formats, such as key-value pairs, documents, columns, or graphs.  \n",
    "Data Integrity: NoSQL databases may sacrifice some level of data integrity for improved scalability and performance. ACID properties might not be fully guaranteed in all NoSQL databases.  \n",
    "Scalability: NoSQL databases are designed to be horizontally scalable, making them suitable for handling large amounts of data and high traffic.  \n",
    "Query Language: NoSQL databases use various query languages, depending on the type of database. Examples include JSON-like queries for document databases and custom languages for graph databases.  \n",
    "Consistency: NoSQL databases offer varying levels of consistency, including strong consistency, eventual consistency, and causal consistency, depending on the database's design.  \n",
    "Data Relationships: NoSQL databases excel in scenarios where data relationships are more dynamic or not well-defined. They can be more suitable for projects that involve unstructured or semi-structured data.  "
   ]
  },
  {
   "cell_type": "code",
   "execution_count": null,
   "id": "0cee6a82-9be7-448e-b6a6-69c0f69facff",
   "metadata": {},
   "outputs": [],
   "source": []
  },
  {
   "cell_type": "markdown",
   "id": "be853c9a-880d-4669-a97a-7bfe3f5f62a4",
   "metadata": {},
   "source": [
    "Q2. What is DDL? Explain why CREATE, DROP, ALTER, and TRUNCATE are used with an example.  \n",
    "Ans:  \n",
    "DDL (Data Definition Language) is a subset of SQL (Structured Query Language) that deals with defining and managing the structure of a database and its objects. DDL statements are used to create, modify, and delete database objects such as tables, indexes, and views.  \n",
    "\n",
    "CREATE: The CREATE statement is used to **create** new database objects, such as tables, indexes, and views.  \n",
    "DROP:The DROP statement is used to **delete** existing database objects, such as tables, indexes, and views.   \n",
    "ALTER:\n",
    "The ALTER statement is used to modify existing database objects. It can be used to **add, modify, or delete columns, constraints**, and other properties of a table.  \n",
    "TRUNCATE:\n",
    "The TRUNCATE statement is used to **remove all data from a table**, effectively resetting it to an empty state.\n",
    "\n"
   ]
  },
  {
   "cell_type": "code",
   "execution_count": null,
   "id": "73c11bd8-86c7-4e9a-91a6-ba8a9e0b2253",
   "metadata": {},
   "outputs": [],
   "source": []
  },
  {
   "cell_type": "markdown",
   "id": "38ab2bcd-d821-4339-8210-d3f42cb956c7",
   "metadata": {},
   "source": [
    "Q3. What is DML? Explain INSERT, UPDATE, and DELETE with an example.  \n",
    "\n",
    "**DML (Data Manipulation Language)** is a subset of SQL (Structured Query Language) that deals with manipulating data stored within a database. DML statements are used to insert, update, and delete records in database tables.  \n",
    "\n",
    "Here are explanations and examples for the commonly used DML statements:  \n",
    "\n",
    "1. **INSERT:**\n",
    "   The `INSERT` statement is used to add new records (rows) into a table.\n",
    "\n",
    "2. **UPDATE:**\n",
    "   The `UPDATE` statement is used to modify existing records in a table.\n",
    "\n",
    "3. **DELETE:**\n",
    "   The `DELETE` statement is used to remove records from a table.\n",
    "\n"
   ]
  },
  {
   "cell_type": "code",
   "execution_count": null,
   "id": "4492afc4-5f35-41a4-ba1e-3068a64df125",
   "metadata": {},
   "outputs": [],
   "source": []
  },
  {
   "cell_type": "markdown",
   "id": "66f9a844-e0e9-46a9-a718-60d928440f10",
   "metadata": {},
   "source": [
    "Q4. What is DQL? Explain SELECT with an example.  \n",
    "\n",
    "\n",
    "DQL (Data Query Language) is a subset of SQL (Structured Query Language) that deals with retrieving data from a database. DQL is primarily associated with the SELECT statement, which is used to query and retrieve data from one or more tables in a database.  \n",
    "\n",
    "SELECT:\n",
    "The SELECT statement is used to retrieve data from one or more tables based on specified conditions. It allows you to specify the columns you want to retrieve, the tables you want to query, and any filtering or sorting criteria."
   ]
  },
  {
   "cell_type": "code",
   "execution_count": null,
   "id": "3cb845ef-dc74-4091-8afc-a41204c3d3a6",
   "metadata": {},
   "outputs": [],
   "source": []
  },
  {
   "cell_type": "markdown",
   "id": "74d303cf-fa17-41d3-b1b7-61b65c8b5007",
   "metadata": {},
   "source": [
    "Q5. Explain Primary Key and Foreign Key.  \n",
    " \n",
    "**Primary Key:**  \n",
    "A primary key is a unique identifier for each record (row) in a database table. It serves as a means to uniquely identify each record within the table and ensures that each record has a distinct identity. A primary key constraint guarantees that no two records in the table can have the same value for the primary key column(s).  \n",
    "\n",
    "**Foreign Key:**  \n",
    "A foreign key is a column or set of columns in one table that establishes a link between data in two tables. It creates a relationship between the tables, where the values in the foreign key column(s) of one table match the values of the primary key column(s) in another table. This relationship is used to enforce referential integrity and maintain data consistency across related tables."
   ]
  },
  {
   "cell_type": "code",
   "execution_count": null,
   "id": "9033eb9d-97d0-4c24-8158-5a3f7c24b5e8",
   "metadata": {},
   "outputs": [],
   "source": []
  },
  {
   "cell_type": "markdown",
   "id": "7c9b1874-5e1e-4323-9a8a-25b3c22a9347",
   "metadata": {},
   "source": [
    "Q6. Write a python code to connect MySQL to python. Explain the cursor() and execute() method.  \n",
    "\n",
    "To connect MySQL to Python, you can use the mysql-connector library. First, you'll need to install the library using the following command:  \n",
    "**pip install mysql-connector-python**  \n",
    "\n",
    "Python code that demonstrates how to connect to a MySQL database, use the cursor() method, and execute SQL queries using the execute() method:  "
   ]
  },
  {
   "cell_type": "code",
   "execution_count": 6,
   "id": "4952437c-5db5-41b8-b749-9076b527f15b",
   "metadata": {},
   "outputs": [
    {
     "name": "stdout",
     "output_type": "stream",
     "text": [
      "Collecting mysql-connector-python\n",
      "  Downloading mysql_connector_python-8.1.0-cp310-cp310-manylinux_2_17_x86_64.whl (27.5 MB)\n",
      "\u001b[2K     \u001b[90m━━━━━━━━━━━━━━━━━━━━━━━━━━━━━━━━━━━━━━━━\u001b[0m \u001b[32m27.5/27.5 MB\u001b[0m \u001b[31m13.1 MB/s\u001b[0m eta \u001b[36m0:00:00\u001b[0m00:01\u001b[0m00:01\u001b[0m\n",
      "\u001b[?25hRequirement already satisfied: protobuf<=4.21.12,>=4.21.1 in /opt/conda/lib/python3.10/site-packages (from mysql-connector-python) (4.21.11)\n",
      "Installing collected packages: mysql-connector-python\n",
      "Successfully installed mysql-connector-python-8.1.0\n",
      "Note: you may need to restart the kernel to use updated packages.\n"
     ]
    }
   ],
   "source": [
    "pip install mysql-connector-python\n"
   ]
  },
  {
   "cell_type": "code",
   "execution_count": 8,
   "id": "db8ecf23-5b5a-4e0b-adbb-56fd7d3ac440",
   "metadata": {},
   "outputs": [
    {
     "name": "stdout",
     "output_type": "stream",
     "text": [
      "Error: 2003 (HY000): Can't connect to MySQL server on 'localhost:3306' (99)\n"
     ]
    }
   ],
   "source": [
    "\n",
    "import mysql.connector\n",
    "\n",
    "# Establishing the connection\n",
    "try:\n",
    "    connection = mysql.connector.connect(\n",
    "        host=\"localhost\",\n",
    "        user=\"your_username\",\n",
    "        password=\"your_password\",\n",
    "        database=\"your_database\"\n",
    "    )\n",
    "    print(\"Connected to MySQL!\")\n",
    "\n",
    "    # Creating a cursor object\n",
    "    cursor = connection.cursor()\n",
    "\n",
    "    # Executing SQL queries\n",
    "    query = \"SELECT * FROM Customers\"\n",
    "    cursor.execute(query)\n",
    "\n",
    "    # Fetching and printing the results\n",
    "    results = cursor.fetchall()\n",
    "    for row in results:\n",
    "        print(row)\n",
    "\n",
    "except mysql.connector.Error as error:\n",
    "    print(\"Error:\", error)"
   ]
  },
  {
   "cell_type": "code",
   "execution_count": null,
   "id": "d71de72b-6907-4cea-b776-709ba3548382",
   "metadata": {},
   "outputs": [],
   "source": []
  },
  {
   "cell_type": "markdown",
   "id": "dc039a44-b95e-4fc9-ab40-8ce5a294c519",
   "metadata": {},
   "source": [
    "Q7. Give the order of execution of SQL clauses in an SQL query.  \n",
    "\n",
    "In an SQL query, the clauses are generally executed in the following order:  \n",
    "\n",
    "\n",
    "In an SQL query, the clauses are generally executed in the following order:\n",
    "\n",
    "SELECT: This clause is used to specify which columns you want to retrieve data from.\n",
    "\n",
    "FROM: This clause specifies the table(s) from which you want to retrieve data.\n",
    "\n",
    "WHERE: The WHERE clause is used to filter the rows based on specified conditions. It narrows down the data based on certain criteria.\n",
    "\n",
    "GROUP BY: This clause is used to group the rows with similar values in specified columns.\n",
    "\n",
    "HAVING: The HAVING clause filters the groups produced by the GROUP BY clause based on certain conditions.\n",
    "\n",
    "ORDER BY: This clause is used to sort the result set based on specified columns. You can specify ascending (ASC) or descending (DESC) order.\n",
    "\n",
    "LIMIT/OFFSET: These clauses are used to restrict the number of rows returned or skip a certain number of rows.\n",
    "\n",
    "SELECT DISTINCT: This is used to retrieve unique/distinct values from a column.\n",
    "\n",
    "JOIN: This clause is used to combine data from multiple tables based on specified conditions.\n",
    "\n",
    "UNION: This is used to combine the result sets of two or more SELECT statements into a single result set.\n",
    "\n",
    "INSERT: This clause is used to insert data into a table.\n",
    "\n",
    "UPDATE: This clause is used to modify existing data in a table.\n",
    "\n",
    "DELETE: This clause is used to delete data from a table."
   ]
  },
  {
   "cell_type": "code",
   "execution_count": null,
   "id": "194f154a-afad-43d5-bf83-176a6c3f9983",
   "metadata": {},
   "outputs": [],
   "source": []
  }
 ],
 "metadata": {
  "kernelspec": {
   "display_name": "Python 3 (ipykernel)",
   "language": "python",
   "name": "python3"
  },
  "language_info": {
   "codemirror_mode": {
    "name": "ipython",
    "version": 3
   },
   "file_extension": ".py",
   "mimetype": "text/x-python",
   "name": "python",
   "nbconvert_exporter": "python",
   "pygments_lexer": "ipython3",
   "version": "3.10.8"
  }
 },
 "nbformat": 4,
 "nbformat_minor": 5
}
