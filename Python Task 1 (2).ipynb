{
 "cells": [
  {
   "cell_type": "markdown",
   "id": "ffe18942-86fd-4958-a568-075438a25a91",
   "metadata": {},
   "source": [
    "## **Python Task**"
   ]
  },
  {
   "cell_type": "code",
   "execution_count": null,
   "id": "db280d86-e6ba-42cb-b895-2a6a6525b940",
   "metadata": {},
   "outputs": [],
   "source": []
  },
  {
   "cell_type": "markdown",
   "id": "0d277818-07ea-4566-8336-74f09bda4e4e",
   "metadata": {},
   "source": [
    "Q1. Create a function which will take a list as an argument and return the product of all the numbers\n",
    "after creating a flat list.\n",
    "Use the below-given list as an argument for your function.\n",
    "\n",
    "list1 = [1,2,3,4, [44,55,66, True], False, (34,56,78,89,34), {1,2,3,3,2,1}, {1:34, \"key2\": [55, 67, 78, 89], 4: (45,22, 61, 34)}, [56, 'data science'], 'Machine Learning']"
   ]
  },
  {
   "cell_type": "code",
   "execution_count": 73,
   "id": "bbc3f1f8-a4bc-4fa2-af87-33f385f0043e",
   "metadata": {},
   "outputs": [],
   "source": [
    "list1 = [1,2,3,4, [44,55,66, True], False, (34,56,78,89,34), {1,2,3,3,2,1}, {1:34, \"key2\": [55, 67, 78, 89], 4: (45,22, 61, 34)}, [56, 'data science'], 'Machine Learning']"
   ]
  },
  {
   "cell_type": "code",
   "execution_count": 74,
   "id": "9265dfe0-2522-431e-9290-0af5c8595905",
   "metadata": {},
   "outputs": [],
   "source": [
    "def product(l):\n",
    "    l1=[]\n",
    "    product=1\n",
    "    from functools import reduce\n",
    "    for i in l:\n",
    "        if type(i)== int:\n",
    "            l1.append(i)\n",
    "        if type(i)== list or type(i)==tuple or type(i)==set:\n",
    "            l1.extend([j for j in i if type(j)==int])\n",
    "        if type(i)== dict:\n",
    "            l2=[]\n",
    "            for k,v in i.items():\n",
    "                if type(k)==int:\n",
    "                    l2.append(k)\n",
    "                if type(v)== int:\n",
    "                    l2.append(v)\n",
    "                if type(k)==list or type(k)==tuple or type(k)==set:\n",
    "                    l2.extend(list(k))\n",
    "                if type(v)==list or type(v)==tuple or type(v)==set:\n",
    "                    l2.extend(list(v))\n",
    "            l1.extend(l2)\n",
    "             \n",
    "        product=int(reduce(lambda x,y: x*y,l1))\n",
    "    return product"
   ]
  },
  {
   "cell_type": "code",
   "execution_count": 75,
   "id": "7c32c3a4-2a67-40c6-b63d-65591b042cf6",
   "metadata": {},
   "outputs": [
    {
     "data": {
      "text/plain": [
       "4134711838987085478833841242112000"
      ]
     },
     "execution_count": 75,
     "metadata": {},
     "output_type": "execute_result"
    }
   ],
   "source": [
    "p=product(list1)\n",
    "p"
   ]
  },
  {
   "cell_type": "code",
   "execution_count": null,
   "id": "9d29c4bc-d573-498d-99e4-73aa5640d7bf",
   "metadata": {},
   "outputs": [],
   "source": []
  },
  {
   "cell_type": "markdown",
   "id": "f8d60a6b-7943-422a-96f1-947812d84343",
   "metadata": {},
   "source": [
    "Q2. Write a python program for encrypting a message sent to you by your friend. The logic of encryption\n",
    "should be such that, for a the output should be z. For b, the output should be y. For c, the output should\n",
    "be x respectively. Also, the whitespace should be replaced with a dollar sign. Keep the punctuation\n",
    "marks unchanged.\n",
    "\n",
    "Input Sentence: I want to become a Data Scientist.\n"
   ]
  },
  {
   "cell_type": "code",
   "execution_count": 76,
   "id": "75ec01a1-9a9e-41a5-8a24-4fe2ceae6c73",
   "metadata": {},
   "outputs": [
    {
     "name": "stdout",
     "output_type": "stream",
     "text": [
      "i$wnzt$to$yecome$z$dztz$sciencist"
     ]
    }
   ],
   "source": [
    "message=\"I wnat to become a Data Sciencist\"\n",
    "it= iter(message)\n",
    "for i in range(len(message)):\n",
    "    sub=next(it).lower()\n",
    "    if sub==\"a\":\n",
    "        print(\"z\",end=\"\")\n",
    "    elif sub==\"b\":\n",
    "        print(\"y\",end=\"\")\n",
    "    elif sub==\"c\":\n",
    "        print(\"c\",end=\"\")\n",
    "    elif sub==\" \":\n",
    "        print(\"$\",end=\"\")\n",
    "    else: print(sub,end=\"\")\n",
    "    \n",
    "    "
   ]
  },
  {
   "cell_type": "code",
   "execution_count": null,
   "id": "77495ea3-710d-421c-83c4-b4be46c13480",
   "metadata": {},
   "outputs": [],
   "source": []
  },
  {
   "cell_type": "code",
   "execution_count": null,
   "id": "5203e9e9-d0a4-4a17-acee-0284013fc1b4",
   "metadata": {},
   "outputs": [],
   "source": []
  }
 ],
 "metadata": {
  "kernelspec": {
   "display_name": "Python 3 (ipykernel)",
   "language": "python",
   "name": "python3"
  },
  "language_info": {
   "codemirror_mode": {
    "name": "ipython",
    "version": 3
   },
   "file_extension": ".py",
   "mimetype": "text/x-python",
   "name": "python",
   "nbconvert_exporter": "python",
   "pygments_lexer": "ipython3",
   "version": "3.10.8"
  }
 },
 "nbformat": 4,
 "nbformat_minor": 5
}
