{
 "cells": [
  {
   "cell_type": "markdown",
   "id": "c023fcab-0e2c-4bc8-af69-b27e580db52b",
   "metadata": {},
   "source": [
    "Q1. What is Statistics?  \n",
    "Solution:  \n",
    "Statistics is the branch of mathematics that deals with collecting, analyzing, interpreting, presenting, and organizing data. "
   ]
  },
  {
   "cell_type": "code",
   "execution_count": null,
   "id": "dfd5d109-dfee-428d-942c-22e43a1e912e",
   "metadata": {},
   "outputs": [],
   "source": []
  },
  {
   "cell_type": "markdown",
   "id": "376ba303-e880-4858-a479-5db6004bca37",
   "metadata": {},
   "source": [
    "Q2. Define the different types of statistics and give an example of when each type might be used.  \n",
    "\n",
    "Sol:  \n",
    "    Descriptive statistics involves summarizing and organizing data so it can be easily understood.  \n",
    "Eg. Calculating mean test scores\n",
    "\n",
    "Inferential Statistics  \n",
    "Makes predictions or inferences about a population based on a sample  \n",
    "Example: A pharmaceutical company tests whether a new drug is more effective than the existing standard treatment."
   ]
  },
  {
   "cell_type": "code",
   "execution_count": null,
   "id": "84239d95-4486-44f2-9075-913223ce9036",
   "metadata": {},
   "outputs": [],
   "source": []
  },
  {
   "cell_type": "markdown",
   "id": "b9384f2f-2f32-484f-a41f-c0c9350a5d2c",
   "metadata": {},
   "source": [
    "Q4. Categorise the following datasets with respect to quantitative and qualitative data types:  \n",
    "(i) Grading in exam: A+, A, B+, B, C+, C, D, E  \n",
    "(ii) Colour of mangoes: yellow, green, orange, red  \n",
    "(iii) Height data of a class: [178.9, 179, 179.5, 176, 177.2, 178.3, 175.8,...]  \n",
    "(iv) Number of mangoes exported by a farm: [500, 600, 478, 672, ...]    "
   ]
  },
  {
   "cell_type": "markdown",
   "id": "5c603ed3-c390-4f7b-bb6e-694dc138e3b3",
   "metadata": {},
   "source": [
    "Solution:  \n",
    "    Quantitative : \n",
    "        Height data of a class: [178.9, 179, 179.5, 176, 177.2, 178.3, 175.8,...]    \n",
    "         Number of mangoes exported by a farm: [500, 600, 478, 672, ...]   \n",
    "         Qualitative :  \n",
    "        Colour of mangoes: yellow, green, orange, red  \n",
    "        Grading in exam: A+, A, B+, B, C+, C, D, E  "
   ]
  },
  {
   "cell_type": "code",
   "execution_count": null,
   "id": "a4d9fe24-2719-4c89-a1b7-b84cd3a2c2f9",
   "metadata": {},
   "outputs": [],
   "source": []
  },
  {
   "cell_type": "markdown",
   "id": "7dd474f9-e55c-4fd0-9a58-0cfdd5fb5263",
   "metadata": {},
   "source": [
    "Q5. Explain the concept of levels of measurement and give an example of a variable for each level.  "
   ]
  },
  {
   "cell_type": "markdown",
   "id": "a77c198c-d8a2-42e0-b26e-a3140522f8dc",
   "metadata": {},
   "source": [
    "1. Nominal Level  \n",
    "The nominal level of measurement classifies data into distinct categories that do not have a specific order or ranking. These categories are mutually exclusive and exhaustive.\n",
    "Example Variable: Hair Color  \n",
    "Categories: Black, Brown, Blonde, Red  \n",
    "\n",
    "2. Ordinal Level    \n",
    "The ordinal level of measurement categorizes data into distinct categories that have a meaningful order or ranking. However, the intervals between the ranks are not necessarily equal.  \n",
    "Example Variable: Socioeconomic Status    \n",
    "Categories: Low, Middle, High   \n",
    "3. Interval Level  \n",
    "The interval level of measurement not only categorizes and orders data but also specifies that the intervals between values are equal. However, it lacks a true zero point, meaning zero does not indicate an absence of the quantity being measured.  \n",
    "Example Variable: Temperature in Celsius  \n",
    "Values: 0°C, 10°C, 20°C, etc.   \n",
    "\n",
    "4. Ratio Level  \n",
    "The ratio level of measurement has all the characteristics of the interval level, with the addition of a true zero point. This means zero indicates the absence of the quantity being measured, allowing for meaningful ratios.  \n",
    "Example Variable: Height  \n",
    "Values: 0 cm, 50 cm, 100 cm, etc.  "
   ]
  },
  {
   "cell_type": "code",
   "execution_count": null,
   "id": "b55c135c-6f27-4208-be41-a7c1806c4329",
   "metadata": {},
   "outputs": [],
   "source": []
  },
  {
   "cell_type": "markdown",
   "id": "50c6244d-4940-4d5b-8e64-f72cbb5f8366",
   "metadata": {},
   "source": [
    "Q6. Why is it important to understand the level of measurement when analyzing data? Provide an example to illustrate your answer.   \n",
    "\n",
    "Reasons for Importance   \n",
    "1. Appropriate Statistical Techniques: Different levels of measurement require different statistical tests   \n",
    "\n",
    "2. Accurate Interpretation: The level of measurement influences how data can be summarized and presented.   \n",
    "\n",
    "3. Meaningful Results: Ensuring that the statistical methods match the data type ensures that the results are valid and meaningful.   \n",
    "\n",
    "Scenario:   \n",
    "A researcher is studying customer satisfaction in a retail store using a survey.  \n",
    "Variable: Customer Satisfaction  \n",
    "Measurement Level: Ordinal  \n",
    "Categories: Very Unsatisfied, Unsatisfied, Neutral, Satisfied, Very Satisfied  \n",
    "\n",
    "Appropriate Analysis Method:  \n",
    "Median and Mode"
   ]
  },
  {
   "cell_type": "code",
   "execution_count": null,
   "id": "e4e78891-4295-4c24-898d-76f73d991ec8",
   "metadata": {},
   "outputs": [],
   "source": []
  },
  {
   "cell_type": "markdown",
   "id": "21140d83-9b8e-4b4e-8c21-d9cdfa5e524a",
   "metadata": {},
   "source": [
    "Q7. How nominal data type is different from ordinal data type.   \n",
    "\n",
    "Nominal Data\n",
    "Nominal data classifies data into distinct categories that have no inherent order or ranking.\n",
    "Examples:\n",
    "1. Gender: Male, Female, Non-binary\n",
    "2. Blood Type: A, B, AB, O\n",
    "3. Car Brands: Toyota, Ford, BMW   \n",
    "\n",
    "Ordinal Data  \n",
    "Ordinal data also classifies data into distinct categories, but these categories have a meaningful order or ranking.   \n",
    "Examples:  \n",
    "1. Education Level: High School, Bachelor's, Master's, Doctorate\n",
    "2. Customer Satisfaction: Very Unsatisfied, Unsatisfied, Neutral, Satisfied, Very Satisfied\n",
    "3. Socioeconomic Status: Low, Middle, High"
   ]
  },
  {
   "cell_type": "code",
   "execution_count": null,
   "id": "64486010-95a1-4896-887d-573e2db7249d",
   "metadata": {},
   "outputs": [],
   "source": []
  },
  {
   "cell_type": "markdown",
   "id": "632597c5-7ea1-46be-b074-48cfa4cd03e7",
   "metadata": {},
   "source": [
    "Q8. Which type of plot can be used to display data in terms of range?   \n",
    "\n",
    "1. Box Plot (Box-and-Whisker Plot)  \n",
    "Example: Displaying the range of test scores for different classes.\n",
    "\n",
    "2. Range Plot     \n",
    "Example: Showing the range of temperatures over a week.   \n",
    "\n",
    "3. Error Bar Plot  \n",
    "Example: Illustrating the range of experimental results with error bars.  \n",
    "\n",
    "4. Violin Plot   \n",
    "Example: Comparing the range and distribution of salaries across different departments.  \n",
    "\n",
    "5. Dot Plot   \n",
    "Use Case: Useful for showing the spread and individual values within a dataset.  \n",
    "Example: Displaying the range of scores in a small dataset.  "
   ]
  },
  {
   "cell_type": "code",
   "execution_count": null,
   "id": "ae5327ff-f055-4126-8fe3-2cf69be7367f",
   "metadata": {},
   "outputs": [],
   "source": []
  },
  {
   "cell_type": "markdown",
   "id": "f7b04187-6e7a-4e82-a974-b405503406ba",
   "metadata": {},
   "source": [
    "Q10. What are some common measures of central tendency and variability used in statistics?   \n",
    "\n",
    "## Measures of Central Tendency\n",
    "1. Mean (Average):\n",
    "Definition: The sum of all data points divided by the number of data points.  \n",
    "Use Case: Best for interval or ratio data that is symmetrically distributed without outliers.  \n",
    "Example: Average income of employees in a company.  \n",
    "\n",
    "2. Median:  \n",
    "The middle value when the data points are ordered from least to greatest. If there's an even number of observations, the median is the average of the two middle numbers.  \n",
    "Use Case: Best for ordinal, interval, or ratio data, especially when the data is skewed or contains outliers.  \n",
    "Example: Median house price in a city.  \n",
    "\n",
    "3. Mode:  \n",
    "The most frequently occurring value in a dataset.   \n",
    "Use Case: Best for nominal, ordinal, interval, or ratio data, particularly useful for categorical data.  \n",
    "Example: Most common blood type in a population.  \n",
    "\n",
    "\n",
    "## Measures of Variability\n",
    "1. Range:  \n",
    "The difference between the maximum and minimum values in a dataset.\n",
    "Use Case: Gives a quick sense of the spread of the data, but is sensitive to outliers.  \n",
    "Example: Range of temperatures recorded in a month.  \n",
    "\n",
    "2. Variance:  \n",
    "The average of the squared differences from the mean. It measures the degree of spread in the data.  \n",
    "Use Case: Used in inferential statistics and provides the basis for standard deviation.  \n",
    "Example: Variance in test scores among students in a class.  \n",
    "Standard Deviation:\n",
    "\n",
    "Definition: The square root of the variance. It provides a measure of the average distance from the mean.\n",
    "Use Case: Commonly used to quantify the amount of variation or dispersion in a set of data values.\n",
    "Example: Standard deviation of daily stock market prices."
   ]
  },
  {
   "cell_type": "code",
   "execution_count": null,
   "id": "c4cad7f6-23c0-43dd-8476-fbe6269a1f9a",
   "metadata": {},
   "outputs": [],
   "source": []
  }
 ],
 "metadata": {
  "kernelspec": {
   "display_name": "Python 3 (ipykernel)",
   "language": "python",
   "name": "python3"
  },
  "language_info": {
   "codemirror_mode": {
    "name": "ipython",
    "version": 3
   },
   "file_extension": ".py",
   "mimetype": "text/x-python",
   "name": "python",
   "nbconvert_exporter": "python",
   "pygments_lexer": "ipython3",
   "version": "3.10.8"
  }
 },
 "nbformat": 4,
 "nbformat_minor": 5
}
