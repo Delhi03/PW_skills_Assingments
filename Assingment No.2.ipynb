{
 "cells": [
  {
   "cell_type": "markdown",
   "id": "56220d29-0fef-4b33-b259-b4a1253ad40f",
   "metadata": {},
   "source": [
    "##  Assingment No.2\n",
    "##  Loops\n",
    "##  Date of assingment: 3 "
   ]
  },
  {
   "cell_type": "code",
   "execution_count": 3,
   "id": "f2ec4316-011c-4b4d-afb0-9fcad61d9be6",
   "metadata": {},
   "outputs": [
    {
     "data": {
      "text/plain": [
       "[1, 3, 5, 7, 9, 11, 13, 15, 17, 19, 21, 23, 25]"
      ]
     },
     "execution_count": 3,
     "metadata": {},
     "output_type": "execute_result"
    }
   ],
   "source": [
    "# Q1. Which keyword is used to create a function? Create a function to return a list of odd numbers in the\n",
    "# range of 1 to 25.\n",
    "\n",
    "# def keyword is used to create a function\n",
    "def odd_num():\n",
    "    l=[i for i in range(1,26) if i%2!=0]\n",
    "    return l\n",
    "odd_num()"
   ]
  },
  {
   "cell_type": "code",
   "execution_count": null,
   "id": "0fa9a669-d976-4fdb-aac4-227e5692d24a",
   "metadata": {},
   "outputs": [],
   "source": []
  },
  {
   "cell_type": "code",
   "execution_count": 26,
   "id": "cbad0b80-350c-4638-954e-98e5616cb425",
   "metadata": {},
   "outputs": [
    {
     "name": "stdout",
     "output_type": "stream",
     "text": [
      "15\n",
      "-------------------\n",
      "Name : Ravan\n",
      "Role : Villan\n"
     ]
    }
   ],
   "source": [
    "# Q2. Why *args and **kwargs is used in some functions? Create a function each for *args and **kwargs\n",
    "# to demonstrate their use.\n",
    "\n",
    "# *args:\n",
    "# The *args syntax allows a function to accept an arbitrary number of positional arguments, which are then \n",
    "# packed into a tuple within the function. It allows you to pass multiple arguments to the function without\n",
    "# explicitly defining them in the function signature.\n",
    "def add_num(*args):\n",
    "    sum=0\n",
    "    for i in args:\n",
    "        sum+=i\n",
    "    return sum\n",
    "print(add_num(1,2,3,4,5))  \n",
    "print(\"-------------------\")\n",
    "\n",
    "# **kwargs:\n",
    "# The **kwargs syntax allows a function to accept an arbitrary number of keyword arguments, which are then\n",
    "# packed into a dictionary within the function. It provides a way to pass a variable number of named arguments\n",
    "# to the function. \n",
    "def details(**kwargs):\n",
    "    for k,v, in kwargs.items():\n",
    "        print(k,\":\",v)\n",
    "details(Name=\"Ravan\", Role=\"Villan\")\n",
    "  "
   ]
  },
  {
   "cell_type": "code",
   "execution_count": null,
   "id": "0668d8a6-14b0-43eb-9691-4a7f4f1991c5",
   "metadata": {},
   "outputs": [],
   "source": []
  },
  {
   "cell_type": "code",
   "execution_count": 31,
   "id": "4a41fc4e-cf68-41f5-8521-57a1ee9581b6",
   "metadata": {},
   "outputs": [
    {
     "name": "stdout",
     "output_type": "stream",
     "text": [
      "2\n",
      "4\n",
      "6\n",
      "8\n",
      "10\n"
     ]
    }
   ],
   "source": [
    "# Q3. What is an iterator in python? Name the method used to initialise the iterator object and the method\n",
    "# used for iteration. Use these methods to print the first five elements of the given list [2, 4, 6, 8, 10, 12, 14,\n",
    "# 16, 18, 20].\n",
    "\n",
    "# iterator is an object that allows you to iterate over a sequence of elements one by one. \n",
    "# It provides a way to access elements from a collection sequentially, without the need to know \n",
    "# the underlying structure of the collection.\n",
    "# iter(): Used to initialise the iterator object\n",
    "# next(): Used for iteration\n",
    "\n",
    "l=[2,4,6,8,10,12,14,16,18,20]\n",
    "my_list= iter(l)\n",
    "for i in range(5):\n",
    "    print(next(my_list))"
   ]
  },
  {
   "cell_type": "code",
   "execution_count": null,
   "id": "2a40f0de-b5fb-4d63-a7d4-9a536e5a244a",
   "metadata": {},
   "outputs": [],
   "source": []
  },
  {
   "cell_type": "code",
   "execution_count": 32,
   "id": "57ebaabf-6465-4525-a137-196023b864c1",
   "metadata": {},
   "outputs": [
    {
     "name": "stdout",
     "output_type": "stream",
     "text": [
      "0\n",
      "1\n",
      "1\n",
      "2\n",
      "3\n"
     ]
    }
   ],
   "source": [
    "# Q4. What is a generator function in python? Why yield keyword is used? Give an example of a generator\n",
    "# function.\n",
    "\n",
    "# A generator function is a special type of function that uses the yield keyword to produce a sequence\n",
    "# of values, one at a time, on-the-fly, as it is called, instead of computing and storing all the \n",
    "# values in memory at once. This makes generators memory-efficient and allows them to handle large\n",
    "# data sets without consuming excessive memory.\n",
    "\n",
    "# The yield keyword is used in a generator function to indicate that the function will return a value,\n",
    "# but instead of terminating the function like return does, it temporarily suspends the function's state,\n",
    "# allowing it to resume from where it left off the next time the generator is called.\n",
    "\n",
    "def fibonacii():\n",
    "    a,b=0,1\n",
    "    while True:\n",
    "        yield a\n",
    "        a,b=b,a+b\n",
    "fibo=fibonacii()\n",
    "for i in range(5):\n",
    "    print(next(fibo))"
   ]
  },
  {
   "cell_type": "code",
   "execution_count": null,
   "id": "f5d571fe-cc24-44b1-adda-9886ffa4613d",
   "metadata": {},
   "outputs": [],
   "source": []
  },
  {
   "cell_type": "code",
   "execution_count": 43,
   "id": "25821f50-83ef-4ed4-bc93-93eea183c0eb",
   "metadata": {},
   "outputs": [
    {
     "name": "stdout",
     "output_type": "stream",
     "text": [
      "2\n",
      "3\n",
      "5\n",
      "7\n",
      "11\n",
      "13\n",
      "17\n",
      "19\n",
      "23\n",
      "29\n",
      "31\n",
      "37\n",
      "41\n",
      "43\n",
      "47\n",
      "53\n",
      "59\n",
      "61\n",
      "67\n",
      "71\n"
     ]
    }
   ],
   "source": [
    "# Q5. Create a generator function for prime numbers less than 1000. Use the next() method to print the\n",
    "# first 20 prime numbers.\n",
    "\n",
    "def prime():\n",
    "    i=2\n",
    "    while True:\n",
    "        for j in range(2,i):\n",
    "            if i%j==0: break\n",
    "        else: yield i\n",
    "        i+=1\n",
    "        \n",
    "prime_num= prime()\n",
    "for i in range(20):\n",
    "    print(next(prime_num))"
   ]
  },
  {
   "cell_type": "code",
   "execution_count": null,
   "id": "2f9cb01f-6f82-40cc-9167-92e612ec845f",
   "metadata": {},
   "outputs": [],
   "source": []
  },
  {
   "cell_type": "code",
   "execution_count": 46,
   "id": "69e1b0ba-28bf-4cb6-955a-28821e97345a",
   "metadata": {},
   "outputs": [
    {
     "name": "stdout",
     "output_type": "stream",
     "text": [
      "0\n",
      "1\n",
      "1\n",
      "2\n",
      "3\n",
      "5\n",
      "8\n",
      "13\n",
      "21\n",
      "34\n"
     ]
    }
   ],
   "source": [
    "# Q6. Write a python program to print the first 10 Fibonacci numbers using a while loop.\n",
    "\n",
    "i=0;\n",
    "a,b=0,1\n",
    "while i<10:\n",
    "    print(a)\n",
    "    a,b=b,a+b\n",
    "    i+=1"
   ]
  },
  {
   "cell_type": "code",
   "execution_count": null,
   "id": "15a9677a-c52d-403a-b802-34dae3bb1de5",
   "metadata": {},
   "outputs": [],
   "source": []
  },
  {
   "cell_type": "code",
   "execution_count": 47,
   "id": "d0839ee7-28a5-491b-82d7-ec721473cc1d",
   "metadata": {},
   "outputs": [
    {
     "data": {
      "text/plain": [
       "['p', 'w', 's', 'k', 'i', 'l', 'l', 's']"
      ]
     },
     "execution_count": 47,
     "metadata": {},
     "output_type": "execute_result"
    }
   ],
   "source": [
    "# Q7. Write a List Comprehension to iterate through the given string: ‘pwskills’.\n",
    "# Expected output: ['p', 'w', 's', 'k', 'i', 'l', 'l', 's']\n",
    "s=\"pwskills\"\n",
    "l=[i for i in s]\n",
    "l"
   ]
  },
  {
   "cell_type": "code",
   "execution_count": null,
   "id": "1ed158dc-ce0f-4d01-86a8-b871f8b9d01c",
   "metadata": {},
   "outputs": [],
   "source": []
  },
  {
   "cell_type": "code",
   "execution_count": 58,
   "id": "553fd065-3097-42df-941c-285efd38a6f9",
   "metadata": {},
   "outputs": [
    {
     "name": "stdin",
     "output_type": "stream",
     "text": [
      "Enter the No. 4564\n"
     ]
    },
    {
     "name": "stdout",
     "output_type": "stream",
     "text": [
      "4564  is not a palidrome number\n"
     ]
    }
   ],
   "source": [
    "# Q8. Write a python program to check whether a given number is Palindrome or not using a while loop.\n",
    "\n",
    "n=str(input(\"Enter the No.\"))\n",
    "i,j=0,len(n)-1\n",
    "flag=1\n",
    "while i<j:\n",
    "    if n[i]==n[j]: flag=1\n",
    "    else: \n",
    "        flag=0\n",
    "        break\n",
    "    i+=1\n",
    "    j-=1\n",
    "if flag==1: print(n,\" is a palidrome number\")  \n",
    "else: print(n,\" is not a palidrome number\")  "
   ]
  },
  {
   "cell_type": "code",
   "execution_count": null,
   "id": "ca746339-ad5c-44de-8175-46f3a0855ab8",
   "metadata": {},
   "outputs": [],
   "source": []
  },
  {
   "cell_type": "code",
   "execution_count": 62,
   "id": "d11a7fb6-6be0-4467-b192-6c17af33f644",
   "metadata": {},
   "outputs": [
    {
     "data": {
      "text/plain": [
       "[1,\n",
       " 3,\n",
       " 5,\n",
       " 7,\n",
       " 9,\n",
       " 11,\n",
       " 13,\n",
       " 15,\n",
       " 17,\n",
       " 19,\n",
       " 21,\n",
       " 23,\n",
       " 25,\n",
       " 27,\n",
       " 29,\n",
       " 31,\n",
       " 33,\n",
       " 35,\n",
       " 37,\n",
       " 39,\n",
       " 41,\n",
       " 43,\n",
       " 45,\n",
       " 47,\n",
       " 49,\n",
       " 51,\n",
       " 53,\n",
       " 55,\n",
       " 57,\n",
       " 59,\n",
       " 61,\n",
       " 63,\n",
       " 65,\n",
       " 67,\n",
       " 69,\n",
       " 71,\n",
       " 73,\n",
       " 75,\n",
       " 77,\n",
       " 79,\n",
       " 81,\n",
       " 83,\n",
       " 85,\n",
       " 87,\n",
       " 89,\n",
       " 91,\n",
       " 93,\n",
       " 95,\n",
       " 97,\n",
       " 99]"
      ]
     },
     "execution_count": 62,
     "metadata": {},
     "output_type": "execute_result"
    }
   ],
   "source": [
    "# Q9. Write a code to print odd numbers from 1 to 100 using list comprehension.\n",
    "# Note: Use a list comprehension to create a list from 1 to 100 and use another List comprehension to filter\n",
    "# out odd numbers.\n",
    "\n",
    "l=[i for i in range(1,101)]\n",
    "odd_num=[j for j in l if j%2!=0]\n",
    "odd_num"
   ]
  },
  {
   "cell_type": "code",
   "execution_count": null,
   "id": "e11b6568-a8bf-4d45-999e-8ff1a8527073",
   "metadata": {},
   "outputs": [],
   "source": []
  }
 ],
 "metadata": {
  "kernelspec": {
   "display_name": "Python 3 (ipykernel)",
   "language": "python",
   "name": "python3"
  },
  "language_info": {
   "codemirror_mode": {
    "name": "ipython",
    "version": 3
   },
   "file_extension": ".py",
   "mimetype": "text/x-python",
   "name": "python",
   "nbconvert_exporter": "python",
   "pygments_lexer": "ipython3",
   "version": "3.10.8"
  }
 },
 "nbformat": 4,
 "nbformat_minor": 5
}
