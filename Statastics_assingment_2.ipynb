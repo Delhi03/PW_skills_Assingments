{
 "cells": [
  {
   "cell_type": "markdown",
   "id": "35aa3574-7da1-4450-927f-dc1dc7637ac3",
   "metadata": {},
   "source": [
    "Q1. What are the three measures of central tendency?   \n",
    "Sol:   \n",
    "    Mean , Median ,Mode."
   ]
  },
  {
   "cell_type": "code",
   "execution_count": null,
   "id": "65197633-232a-4516-a7e6-e05abbb28eae",
   "metadata": {},
   "outputs": [],
   "source": []
  },
  {
   "cell_type": "markdown",
   "id": "3840dd4a-5181-4e75-80f2-b2585fd61001",
   "metadata": {},
   "source": [
    "Q2. What is the difference between the mean, median, and mode? How are they used to measure the\n",
    "central tendency of a dataset?   \n",
    "Sol:  \n",
    "1. Mean: The average value (sum of values divided by count). Best for symmetric distributions without outliers.  \n",
    "2. Median: The middle value when data is ordered. Ideal for skewed distributions or data with outliers.  \n",
    "3. Mode: The most frequent value. Useful for categorical data or identifying the most common value."
   ]
  },
  {
   "cell_type": "code",
   "execution_count": null,
   "id": "bf0c1825-606c-4bdd-bbfa-8c1b4b84d06f",
   "metadata": {},
   "outputs": [],
   "source": []
  },
  {
   "cell_type": "markdown",
   "id": "227f750f-d4c1-4172-945e-bea456fdcdba",
   "metadata": {},
   "source": [
    "Q3. Measure the three measures of central tendency for the given height data:\n",
    "[178,177,176,177,178.2,178,175,179,180,175,178.9,176.2,177,172.5,178,176.5]    "
   ]
  },
  {
   "cell_type": "code",
   "execution_count": 16,
   "id": "75db8f2d-ab65-4fcd-8375-a4206396ba03",
   "metadata": {},
   "outputs": [
    {
     "name": "stdout",
     "output_type": "stream",
     "text": [
      "Mean 177.01875\n",
      "Median 177.0\n",
      "Mode:  ModeResult(mode=array([177.]), count=array([3]))\n"
     ]
    },
    {
     "name": "stderr",
     "output_type": "stream",
     "text": [
      "/tmp/ipykernel_134/3283070891.py:8: FutureWarning: Unlike other reduction functions (e.g. `skew`, `kurtosis`), the default behavior of `mode` typically preserves the axis it acts along. In SciPy 1.11.0, this behavior will change: the default value of `keepdims` will become False, the `axis` over which the statistic is taken will be eliminated, and the value None will no longer be accepted. Set `keepdims` to True or False to avoid this warning.\n",
      "  print(\"Mode: \",stats.mode(arr))\n"
     ]
    }
   ],
   "source": [
    "import numpy as np\n",
    "arr = np.array([178,177,176,177,178.2,178,175,179,180,175,178.9,176.2,177,172.5,178,176.5])\n",
    "print(\"Mean\", np.mean(arr))\n",
    "print(\"Median\", np.median(arr))\n",
    "\n",
    "## for mode\n",
    "from scipy import stats\n",
    "print(\"Mode: \",stats.mode(arr))"
   ]
  },
  {
   "cell_type": "code",
   "execution_count": null,
   "id": "41b21b0f-8829-4881-8d49-0c012090ea72",
   "metadata": {},
   "outputs": [],
   "source": []
  },
  {
   "cell_type": "markdown",
   "id": "aa1bec6f-52fc-49c5-9ad7-2a4e4319b1c9",
   "metadata": {},
   "source": [
    "Q4. Find the standard deviation for the given data:\n",
    "[178,177,176,177,178.2,178,175,179,180,175,178.9,176.2,177,172.5,178,176.5]   "
   ]
  },
  {
   "cell_type": "code",
   "execution_count": 19,
   "id": "fd389d6e-7354-4479-a0af-95ce1db9bd3b",
   "metadata": {},
   "outputs": [
    {
     "name": "stdout",
     "output_type": "stream",
     "text": [
      "Std :  1.7885814036548633\n"
     ]
    }
   ],
   "source": [
    "l = [178,177,176,177,178.2,178,175,179,180,175,178.9,176.2,177,172.5,178,176.5] \n",
    "arr = np.array(l)\n",
    "print(\"Std : \",np.std(arr))"
   ]
  },
  {
   "cell_type": "code",
   "execution_count": null,
   "id": "9ba19a4c-a580-4968-b4de-bb5df2cb7ce9",
   "metadata": {},
   "outputs": [],
   "source": []
  },
  {
   "cell_type": "markdown",
   "id": "67d8a0d4-4b60-4a03-b687-313e05db435f",
   "metadata": {},
   "source": [
    "Q5. How are measures of dispersion such as range, variance, and standard deviation used to describe\n",
    "the spread of a dataset? Provide an example.   \n",
    "Sol:  \n",
    "1. Range: Provides a quick sense of the spread, but is sensitive to outliers.   \n",
    "2. varience : Indicates how much the data points deviate from the mean, with higher values showing more spread.   \n",
    "3. Standard Deviation: Like variance, it shows the spread of data but is more interpretable because it's in the same units as the original.   \n"
   ]
  },
  {
   "cell_type": "code",
   "execution_count": null,
   "id": "d95edb16-58b2-49b3-9f1b-61223736bc9a",
   "metadata": {},
   "outputs": [],
   "source": []
  },
  {
   "cell_type": "markdown",
   "id": "3ee97afb-1f76-48f7-bac4-2f32967adbd3",
   "metadata": {},
   "source": [
    "Q6. What is a Venn diagram?   \n",
    "Solution:   \n",
    "A Venn diagram is a visual tool used to illustrate the relationships between different sets. It consists of overlapping circles, each representing a set, with the position and overlap of the circles indicating the relationships between the sets.\n"
   ]
  },
  {
   "cell_type": "code",
   "execution_count": null,
   "id": "c5fdf38c-3f8e-4ee3-9afc-420d88097d8e",
   "metadata": {},
   "outputs": [],
   "source": []
  },
  {
   "cell_type": "markdown",
   "id": "05bf81bd-cc9f-4463-99a2-68ec77f785eb",
   "metadata": {},
   "source": [
    "Q7. For the two given sets A = (2,3,4,5,6,7) & B = (0,2,6,8,10). Find:  \n",
    "(i) A B  \n",
    "(ii) A ⋃ B  \n",
    "\n",
    "Solution:   \n",
    "    A∩B={2,6}  \n",
    "    A⋃B={0,2,3,4,5,6,7,8,10}  \n"
   ]
  },
  {
   "cell_type": "markdown",
   "id": "7e102663-78cb-412f-a03a-4b22ef145665",
   "metadata": {},
   "source": [
    "Q8. What do you understand about skewness in data?   \n",
    "Sol:  \n",
    "    Skewness in data refers to the asymmetry or lack of symmetry in the distribution of data points around the mean. It describes the direction and relative magnitude of the deviation of a dataset's distribution from a normal distribution.\n"
   ]
  },
  {
   "cell_type": "code",
   "execution_count": null,
   "id": "92222ba4-782f-471b-b0ce-e7ebd47cd56b",
   "metadata": {},
   "outputs": [],
   "source": []
  },
  {
   "cell_type": "markdown",
   "id": "1f257214-a7c7-4d81-b543-2059684891fa",
   "metadata": {},
   "source": [
    "Q9. If a data is right skewed then what will be the position of median with respect to mean?   \n",
    "Sol:  \n",
    "    \n",
    "Mean : The mean is pulled towards the right tail due to the presence of higher values (outliers).  \n",
    "Median: The median is less affected by extreme values and will be located closer to the bulk of the data.  \n",
    "Mean > Median"
   ]
  },
  {
   "cell_type": "code",
   "execution_count": null,
   "id": "f5bdc098-b22a-43ec-8621-c3cfc1e8b53a",
   "metadata": {},
   "outputs": [],
   "source": []
  },
  {
   "cell_type": "markdown",
   "id": "18774eff-b821-42b0-911f-469d7c5e62e1",
   "metadata": {},
   "source": [
    "Q10. Explain the difference between covariance and correlation. How are these measures used in\n",
    "statistical analysis?   \n",
    "Sol:  \n",
    "    Covariance and correlation are both measures used to describe the relationship between two variables, but they differ in terms of scale, interpretation, and application.  \n",
    "1. Covariance measures the directional relationship between two variables. It indicates whether the variables tend to increase or decrease together.   \n",
    "Interpretation:  \n",
    "Positive covariance indicates that as one variable increases, the other variable tends to increase.  \n",
    "Negative covariance indicates that as one variable increases, the other variable tends to decrease.  \n",
    "The magnitude of covariance is difficult to interpret because it depends on the units of the variables.\n",
    "\n",
    "\n",
    "2. Correlation measures both the strength and direction of the linear relationship between two variables. It standardizes the measure of covariance.   \n",
    "Interpretation:  \n",
    "+1: Perfect positive linear relationship.  \n",
    "−1: Perfect negative linear relationship.  \n",
    "0: No linear relationship.  \n",
    "Example: In the same height and weight example, a correlation of 0.8 would indicate a strong positive linear relationship, meaning taller individuals tend to weigh more, and the relationship is fairly consistent.  "
   ]
  },
  {
   "cell_type": "markdown",
   "id": "259e7d4b-f9cb-48bc-b58f-6a1cc049f66a",
   "metadata": {},
   "source": [
    "Q12. For a normal distribution data what is the relationship between its measure of central tendency?   \n",
    "Sol:   \n",
    "In a normal distribution, the mean, median, and mode are all equal.  \n",
    "They all coincide at the center of the distribution, creating a symmetric bell-shaped curve.  \n",
    "This central point represents the highest point of the distribution, where data are most concentrated.  \n",
    "This equality holds true for any normal distribution, regardless of its mean or standard deviation.  "
   ]
  },
  {
   "cell_type": "markdown",
   "id": "d17130d0-19ca-4f34-a2fa-651ab70e1b15",
   "metadata": {},
   "source": [
    "Q13. How is covariance different from correlation?   \n",
    "Sol:  \n",
    "    Covariance measures the direction of the linear relationship between two variables but does not indicate the strength or nature (positive/negative) of the relationship. It is sensitive to changes in scale.   \n",
    "Correlation also measures the direction but additionally standardizes the measure, providing insights into both the strength and direction of the linear relationship. It ranges from -1 to +1, where +1 indicates a perfect positive linear relationship, -1 indicates a perfect negative linear relationship, and 0 indicates no linear relationship.  "
   ]
  },
  {
   "cell_type": "code",
   "execution_count": null,
   "id": "2b0305cc-e4b1-4c4c-a4bc-b01b293f07fc",
   "metadata": {},
   "outputs": [],
   "source": []
  },
  {
   "cell_type": "markdown",
   "id": "21728325-6486-4a2a-a13e-7c0eea233e9b",
   "metadata": {},
   "source": [
    "Q14. How do outliers affect measures of central tendency and dispersion? Provide an example.   \n",
    "Sol:   \n",
    "    Consider a dataset representing the salaries of employees in a company:  \n",
    "$40,000,$45,000,$50,000,$55,000,$60,000,$65,000,$70,000,$150,000   \n",
    "\n",
    "Mean: Adding the outlier ($150,000) significantly increases the mean salary, making it higher than the typical salary of the majority of employees.   \n",
    "\n",
    "Median: The median salary remains relatively unaffected by the outlier, as it is still within the same salary range as the rest of the data.   \n",
    "\n",
    "Mode: There is no significant change in the mode since the most frequent value remains the same ($40,000-$70,000 range).  \n"
   ]
  },
  {
   "cell_type": "code",
   "execution_count": null,
   "id": "4f7fb3d1-cf56-40a1-a6b6-dc6dd25f90ff",
   "metadata": {},
   "outputs": [],
   "source": [
    "|"
   ]
  }
 ],
 "metadata": {
  "kernelspec": {
   "display_name": "Python 3 (ipykernel)",
   "language": "python",
   "name": "python3"
  },
  "language_info": {
   "codemirror_mode": {
    "name": "ipython",
    "version": 3
   },
   "file_extension": ".py",
   "mimetype": "text/x-python",
   "name": "python",
   "nbconvert_exporter": "python",
   "pygments_lexer": "ipython3",
   "version": "3.10.8"
  }
 },
 "nbformat": 4,
 "nbformat_minor": 5
}
