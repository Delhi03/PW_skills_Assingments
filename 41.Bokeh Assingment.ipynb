{
 "cells": [
  {
   "cell_type": "markdown",
   "id": "ac2ae4c9-a1fe-4f75-90a4-d5dec4dde884",
   "metadata": {},
   "source": [
    "Q1. How can you create a Bokeh plot using Python code?"
   ]
  },
  {
   "cell_type": "markdown",
   "id": "6b961a26-4119-4ba2-a029-2047d8564384",
   "metadata": {},
   "source": [
    "Sotution  \n",
    "Step 1: Install Bokeh  \n",
    "pip install bokeh  "
   ]
  },
  {
   "cell_type": "code",
   "execution_count": 1,
   "id": "5d92a9bc-1fff-48e0-93b0-3645b2d61441",
   "metadata": {},
   "outputs": [],
   "source": [
    "from bokeh.plotting import figure, output_file, show\n",
    "\n",
    "# Prepare the output file\n",
    "output_file(\"example_plot.html\")\n",
    "\n",
    "# Prepare the data\n",
    "x = [1, 2, 3, 4, 5]\n",
    "y = [6, 7, 2, 4, 5]\n",
    "\n",
    "# Create a new plot with a title and axis labels\n",
    "p = figure(title=\"Simple Line Plot\", x_axis_label='X-Axis', y_axis_label='Y-Axis')\n",
    "\n",
    "# Add a line renderer with legend and line thickness\n",
    "p.line(x, y, legend_label=\"Line\", line_width=2)\n",
    "\n",
    "# Show the results\n",
    "show(p)\n"
   ]
  },
  {
   "cell_type": "code",
   "execution_count": null,
   "id": "6d8e75e8-34f4-4246-ae00-30f95e523aaa",
   "metadata": {},
   "outputs": [],
   "source": []
  },
  {
   "cell_type": "markdown",
   "id": "1071ca17-dace-47f7-bc8f-3245c23664d2",
   "metadata": {},
   "source": [
    "Q2. What are glyphs in Bokeh, and how can you add them to a Bokeh plot? Explain with an example.  "
   ]
  },
  {
   "cell_type": "code",
   "execution_count": 2,
   "id": "98740053-516d-4dc9-b89a-55439329c209",
   "metadata": {},
   "outputs": [],
   "source": [
    "from bokeh.plotting import figure, output_file, show\n",
    "\n",
    "# Prepare the output file\n",
    "output_file(\"glyphs_example.html\")\n",
    "\n",
    "# Prepare the data\n",
    "x = [1, 2, 3, 4, 5]\n",
    "y = [6, 7, 2, 4, 5]\n",
    "\n",
    "# Create a new plot with a title and axis labels\n",
    "p = figure(title=\"Multiple Glyphs Example\", x_axis_label='X-Axis', y_axis_label='Y-Axis')\n",
    "\n",
    "# Add a circle glyph\n",
    "p.circle(x, y, size=10, color=\"navy\", alpha=0.5, legend_label=\"Circles\")\n",
    "\n",
    "# Add a line glyph\n",
    "p.line(x, y, line_width=2, color=\"green\", legend_label=\"Line\")\n",
    "\n",
    "# Add a triangle glyph\n",
    "p.triangle(x, y, size=15, color=\"red\", alpha=0.7, legend_label=\"Triangles\")\n",
    "\n",
    "# Show the results\n",
    "show(p)"
   ]
  },
  {
   "cell_type": "code",
   "execution_count": null,
   "id": "65358099-31e3-4ab8-9be2-b174199499aa",
   "metadata": {},
   "outputs": [],
   "source": []
  },
  {
   "cell_type": "markdown",
   "id": "c3865111-4f38-40e9-9fdc-527a6a239f70",
   "metadata": {},
   "source": [
    "Q3. How can you customize the appearance of a Bokeh plot, including the axes, title, and legend?  "
   ]
  },
  {
   "cell_type": "code",
   "execution_count": null,
   "id": "155424c9-d320-4b5f-811e-1f5bd99374af",
   "metadata": {},
   "outputs": [],
   "source": []
  }
 ],
 "metadata": {
  "kernelspec": {
   "display_name": "Python 3 (ipykernel)",
   "language": "python",
   "name": "python3"
  },
  "language_info": {
   "codemirror_mode": {
    "name": "ipython",
    "version": 3
   },
   "file_extension": ".py",
   "mimetype": "text/x-python",
   "name": "python",
   "nbconvert_exporter": "python",
   "pygments_lexer": "ipython3",
   "version": "3.10.8"
  }
 },
 "nbformat": 4,
 "nbformat_minor": 5
}
