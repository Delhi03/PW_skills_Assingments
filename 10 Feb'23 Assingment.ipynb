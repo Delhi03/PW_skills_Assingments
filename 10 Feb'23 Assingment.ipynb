{
 "cells": [
  {
   "cell_type": "markdown",
   "id": "9bc0a288-a0de-4dcf-906b-329e3ce74d1d",
   "metadata": {},
   "source": [
    "## 10_Feb'23 Assingment"
   ]
  },
  {
   "cell_type": "code",
   "execution_count": null,
   "id": "3475f296-caf6-47c3-8d93-2e177686008e",
   "metadata": {},
   "outputs": [],
   "source": []
  },
  {
   "cell_type": "markdown",
   "id": "096f3ff1-afff-4843-a561-66b8a38bf00c",
   "metadata": {},
   "source": [
    "Q1. Which function is used to open a file? What are the different modes of opening a file? Explain each mode of file opening.  \n",
    "Ans:  \n",
    "In python, the function used to open a file is typically called open(). The open() function allows you to interact with files by providing a path to the file and specifying the mode in which you want to open the file. Here's the basic syntax of the open() function:  \n",
    "file = open(file_path, mode)\n"
   ]
  },
  {
   "cell_type": "code",
   "execution_count": null,
   "id": "559b41fc-8746-4565-b953-8873eb98d5ba",
   "metadata": {},
   "outputs": [],
   "source": []
  },
  {
   "cell_type": "markdown",
   "id": "7f6a2869-5f2a-4558-86c1-c3384ae8ccf0",
   "metadata": {},
   "source": [
    "Q2. Why close() function is used? Why is it important to close a file?  \n",
    "Ans:  \n",
    "The close() function in programming is used to explicitly close a file that has been opened using the open() function. It is important to close a file after you have finished working with it for several reasons: \n",
    "  \n",
    "Release Resources: Free up memory and file handles allocated by the operating system for the open file.  \n",
    "Flush Buffers: Ensure that data you've written is actually saved to the file and not just buffered in memory.  \n",
    "Prevent Data Corruption: Safeguard against potential data corruption if the program terminates unexpectedly.  \n",
    "Release Locks: Allow other processes or programs to access the file by releasing any locks.  \n",
    "Avoid File Descriptor Limits: Prevent hitting limits on the number of simultaneously open files."
   ]
  },
  {
   "cell_type": "code",
   "execution_count": null,
   "id": "8c36665b-44fb-4142-b46c-802a3c37f85f",
   "metadata": {},
   "outputs": [],
   "source": []
  },
  {
   "cell_type": "markdown",
   "id": "7a06c178-dcd3-4d5e-a0ae-a93ca58a88a0",
   "metadata": {},
   "source": [
    "Q3. Write a python program to create a text file. Write ‘I want to become a Data Scientist’ in that file. Then close the file. Open this file and read the content of the file."
   ]
  },
  {
   "cell_type": "code",
   "execution_count": 11,
   "id": "89d6ab22-4c12-4ccb-9240-06578ccb81bb",
   "metadata": {},
   "outputs": [
    {
     "name": "stdout",
     "output_type": "stream",
     "text": [
      "I want to become a data scientist\n"
     ]
    }
   ],
   "source": [
    "file=open(\"my_file.txt\",'w')\n",
    "with open(\"my_file.txt\",'w') as file:\n",
    "    file.write(\"I want to become a data scientist\")\n",
    "    \n",
    "with open(\"my_file.txt\",\"r\") as file:\n",
    "    content= file.read()\n",
    "print(content)\n",
    "file.close()"
   ]
  },
  {
   "cell_type": "code",
   "execution_count": null,
   "id": "deea7bb3-5154-4164-8d70-9d77e22d87f9",
   "metadata": {},
   "outputs": [],
   "source": []
  },
  {
   "cell_type": "markdown",
   "id": "f5eec89d-63dd-438a-adee-e19e011b1529",
   "metadata": {},
   "source": [
    "Q4. Explain the following with python code: read(), readline() and readlines().  \n",
    "Ans:  \n",
    "read(): reads the entire file content as a string.  \n",
    "readline(): reads a single line from the file and moves to the next line.  \n",
    "readlines(): reads all lines from the file and returns them as a list of strings."
   ]
  },
  {
   "cell_type": "code",
   "execution_count": null,
   "id": "fa82552a-6037-4941-a4f7-bb79213437cf",
   "metadata": {},
   "outputs": [],
   "source": []
  },
  {
   "cell_type": "markdown",
   "id": "3804cb62-b303-4136-8d78-60e1ac636bde",
   "metadata": {},
   "source": [
    "Q5. Explain why 'with' statement is used with open(). What is the advantage of using 'with' statement and\n",
    "open() together?  \n",
    "Ans:  \n",
    "The with statement is used with the open() function in Python to create a context where the file is automatically managed, including its proper opening and closing. It's used to ensure that the file is closed properly after you're done working with it, whether your code executes normally or if an exception is raised. This pattern is often referred to as a \"context manager.\"\n",
    "\n",
    "Advantages of using the with statement with open():    \n",
    "Automatically manages the opening and closing of files.  \n",
    "Ensures proper resource release and prevents memory leaks.  \n",
    "Provides exception safety by closing the file even if an exception occurs.  \n",
    "Results in cleaner and more readable code.  \n",
    "Is a recommended practice for working with files in Python.  "
   ]
  },
  {
   "cell_type": "code",
   "execution_count": null,
   "id": "fb84160a-fe3c-4ba7-8701-2eee575c0da0",
   "metadata": {},
   "outputs": [],
   "source": []
  },
  {
   "cell_type": "markdown",
   "id": "04783281-052d-43a0-ad88-94dea48750a9",
   "metadata": {},
   "source": [
    "he write() and writelines() functions are used in Python to write data to a file.\n",
    "Here's an explanation of each, along with an example:\n",
    "\n",
    "write(): This function is used to write a string of data to a file. \n",
    "It writes the provided data at the current position of the file pointer.\n",
    "If the file is opened in write mode ('w'), the existing content of the file is truncated,\n",
    "and the new content is written. If the file is opened in append mode ('a'), the data is added\n",
    "to the end of the file.  \n",
    "\n",
    "writelines(): This function is used to write a list of strings to a file. Each string in the list is written as a separate line. The lines do not automatically include newline characters, so you need to provide them if you want to separate the lines."
   ]
  },
  {
   "cell_type": "code",
   "execution_count": 14,
   "id": "05bd0130-e5f2-43ce-8d4b-e1306d05f981",
   "metadata": {},
   "outputs": [
    {
     "name": "stdout",
     "output_type": "stream",
     "text": [
      "Line 1\n",
      "Line 2\n",
      "Line 3\n",
      "\n"
     ]
    }
   ],
   "source": [
    "# Opening a file in write mode\n",
    "with open('output.txt', 'w') as file:\n",
    "    file.write('Hello, world!\\n')  # Writing a string to the file\n",
    "\n",
    "# Opening a file in append mode\n",
    "with open('output.txt', 'a') as file:\n",
    "    file.write('Appending a new line.\\n')  # Appending a string to the file\n",
    "\n",
    "lines = ['Line 1\\n', 'Line 2\\n', 'Line 3\\n']\n",
    "\n",
    "# Opening a file in write mode\n",
    "with open('output.txt', 'w') as file:\n",
    "    file.writelines(lines)  # Writing a list of strings to the file\n",
    "\n",
    "    \n",
    "with open(\"output.txt\",\"r\") as file:\n",
    "    content= file.read()\n",
    "print(content)\n",
    "file.close()"
   ]
  },
  {
   "cell_type": "code",
   "execution_count": null,
   "id": "53708c8e-86ca-4650-ad29-9df18facc45e",
   "metadata": {},
   "outputs": [],
   "source": []
  }
 ],
 "metadata": {
  "kernelspec": {
   "display_name": "Python 3 (ipykernel)",
   "language": "python",
   "name": "python3"
  },
  "language_info": {
   "codemirror_mode": {
    "name": "ipython",
    "version": 3
   },
   "file_extension": ".py",
   "mimetype": "text/x-python",
   "name": "python",
   "nbconvert_exporter": "python",
   "pygments_lexer": "ipython3",
   "version": "3.10.8"
  }
 },
 "nbformat": 4,
 "nbformat_minor": 5
}
