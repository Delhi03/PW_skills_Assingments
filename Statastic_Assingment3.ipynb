{
 "cells": [
  {
   "cell_type": "markdown",
   "id": "adb91bac-cafd-42a1-a660-1c504110947e",
   "metadata": {},
   "source": [
    "Q1. What is the Probability density function?  \n",
    "Sol:  \n",
    "A probability density function (PDF) is a function that describes the likelihood of a continuous random variable taking on a specific value. The PDF is such that the area under the curve between two points represents the probability that the random variable falls within that interval. "
   ]
  },
  {
   "cell_type": "code",
   "execution_count": null,
   "id": "f5c14217-31f3-4ef5-9c51-241f32ce543c",
   "metadata": {},
   "outputs": [],
   "source": []
  },
  {
   "cell_type": "markdown",
   "id": "07c7467a-80f2-4b2e-9cb8-16e61fdd6f81",
   "metadata": {},
   "source": [
    "Q2. What are the types of Probability distribution?  \n",
    "Sol:   \n",
    "1. Binomial Distribution: Describes the number of successes in a fixed number of independent Bernoulli trials (e.g., flipping a coin a set number of times).  \n",
    "2. Poisson Distribution: Describes the number of events occurring within a fixed interval of time or space, given a constant average rate and independent occurrences (e.g., number of emails received in an hour).  \n",
    "3. Normal Distribution (Gaussian Distribution): Describes a symmetric, bell-shaped distribution characterized by its mean and standard deviation (e.g., heights of people).  \n",
    "4. Uniform Distribution: All outcomes are equally likely within a given interval (e.g., rolling a fair die, where each face is equally likely).  \n"
   ]
  },
  {
   "cell_type": "code",
   "execution_count": null,
   "id": "65c0c4d7-2f8c-4358-8fcb-47b0fdf3f386",
   "metadata": {},
   "outputs": [],
   "source": []
  },
  {
   "cell_type": "markdown",
   "id": "7c8c03fc-9249-4b92-bb5d-331cf6a66eed",
   "metadata": {},
   "source": [
    "Q3. Write a Python function to calculate the probability density function of a normal distribution with\n",
    "given mean and standard deviation at a given point.  "
   ]
  },
  {
   "cell_type": "code",
   "execution_count": 1,
   "id": "4bc5ac80-0973-4b81-b3ab-6a72a1bb4094",
   "metadata": {},
   "outputs": [],
   "source": [
    "import math\n",
    "\n",
    "def normal_pdf(x, mean, std_dev):\n",
    "    \"\"\"Calculate the probability density function of a normal distribution.\n",
    "\n",
    "    Args:\n",
    "        x (float): The point at which to calculate the PDF.\n",
    "        mean (float): The mean of the normal distribution.\n",
    "        std_dev (float): The standard deviation of the normal distribution.\n",
    "\n",
    "    Returns:\n",
    "        float: The PDF value at the given point.\n",
    "    \"\"\"\n",
    "    # Calculate the coefficient\n",
    "    coefficient = 1 / (std_dev * math.sqrt(2 * math.pi))\n",
    "    \n",
    "    # Calculate the exponent\n",
    "    exponent = -0.5 * ((x - mean) / std_dev) ** 2\n",
    "    \n",
    "    # Calculate the PDF\n",
    "    pdf_value = coefficient * math.exp(exponent)\n",
    "    \n",
    "    return pdf_value"
   ]
  },
  {
   "cell_type": "code",
   "execution_count": null,
   "id": "7c4fa065-f8f0-445e-8b84-e3a27042fde9",
   "metadata": {},
   "outputs": [],
   "source": []
  },
  {
   "cell_type": "markdown",
   "id": "a9b2514b-9514-4dae-9d9a-da34e6ef8e53",
   "metadata": {},
   "source": [
    "Q4. What are the properties of Binomial distribution? Give two examples of events where binomial\n",
    "distribution can be applied.  \n",
    "Sol:   \n",
    "1. Fixed Number of Trials (n): The experiment consists of a fixed number of trials, denoted by n.  \n",
    "2. Two Possible Outcomes: Each trial has only two possible outcomes: success (usually coded as 1) or failure (usually coded as 0).  \n",
    "3. Constant Probability of Success (p): The probability of success, denoted by p, is the same for each trial. The probability of failure is 1−p.  \n",
    "4. Independence of Trials: Each trial is independent of the others, meaning the outcome of one trial does not affect the outcomes of the others.  \n",
    "5. Discrete Random Variable: The binomial distribution describes a discrete random variable, which represents the number of successes in n trials.  \n",
    "\n",
    "Ex: Quality Control in Manufacturing, Medical Trails."
   ]
  },
  {
   "cell_type": "code",
   "execution_count": null,
   "id": "d0f72dd3-c8e8-44a6-bfca-c26f7e7769a3",
   "metadata": {},
   "outputs": [],
   "source": []
  },
  {
   "cell_type": "code",
   "execution_count": null,
   "id": "47c68119-8e21-4e1b-9e97-f505034c01fa",
   "metadata": {},
   "outputs": [],
   "source": []
  },
  {
   "cell_type": "markdown",
   "id": "1f58d254-9893-4d2c-9410-1b1a0165a7f6",
   "metadata": {},
   "source": [
    "Q7. How Binomial distribution different from Poisson distribution?  \n",
    "sol:   \n",
    "Binomial Distribution\n",
    "Number of Trials: The binomial distribution describes the number of successes in a fixed number of independent trials, denoted by n.   \n",
    "\n",
    "Poisson Distribution\n",
    "Number of Trials: The Poisson distribution describes the number of events occurring within a fixed interval of time or space, given a constant average rate of occurrence, denoted by λ.   \n"
   ]
  },
  {
   "cell_type": "code",
   "execution_count": null,
   "id": "8a2c2952-5160-451d-b0fe-e6d967481a80",
   "metadata": {},
   "outputs": [],
   "source": []
  },
  {
   "cell_type": "markdown",
   "id": "ad25a42c-f7f2-45d8-b381-753a7b566857",
   "metadata": {},
   "source": [
    "Q10. In normal distribution with respect to mean position, where does the least frequent data appear?"
   ]
  },
  {
   "cell_type": "code",
   "execution_count": null,
   "id": "464e7572-25c6-4171-adc9-32e1317fcbcd",
   "metadata": {},
   "outputs": [],
   "source": []
  }
 ],
 "metadata": {
  "kernelspec": {
   "display_name": "Python 3 (ipykernel)",
   "language": "python",
   "name": "python3"
  },
  "language_info": {
   "codemirror_mode": {
    "name": "ipython",
    "version": 3
   },
   "file_extension": ".py",
   "mimetype": "text/x-python",
   "name": "python",
   "nbconvert_exporter": "python",
   "pygments_lexer": "ipython3",
   "version": "3.10.8"
  }
 },
 "nbformat": 4,
 "nbformat_minor": 5
}
