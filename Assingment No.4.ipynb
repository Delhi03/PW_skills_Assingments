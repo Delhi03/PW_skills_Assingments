{
 "cells": [
  {
   "cell_type": "markdown",
   "id": "28bd2e8b-109d-4aa8-9d0b-5a0c8a7573a1",
   "metadata": {},
   "source": [
    "Assingment No.4\n",
    "OOPs\n"
   ]
  },
  {
   "cell_type": "code",
   "execution_count": null,
   "id": "93cc0c6b-904b-4846-abc6-79022abb4bc0",
   "metadata": {},
   "outputs": [],
   "source": []
  },
  {
   "cell_type": "markdown",
   "id": "edd16c62-54ef-4ca7-9c53-0a54b4b045e6",
   "metadata": {},
   "source": [
    "Q1. Explain Class and Object with respect to Object-Oriented Programming. Give a suitable example."
   ]
  },
  {
   "cell_type": "code",
   "execution_count": 23,
   "id": "b1c2bda5-30b4-4df0-9ba7-08cfb7024fa1",
   "metadata": {},
   "outputs": [
    {
     "data": {
      "text/plain": [
       "('red', 100000, '1900MK')"
      ]
     },
     "execution_count": 23,
     "metadata": {},
     "output_type": "execute_result"
    }
   ],
   "source": [
    "# In object-oriented programming (OOP), a class is a blueprint or template that defines \n",
    "# the structure and behavior of objects. It serves as a blueprint for creating instances\n",
    "# of objects, which are individual entities that hold their own state (attributes) and behavior\n",
    "# (methods). A class encapsulates data and methods that operate on that data, providing a way\n",
    "# to model and represent real-world entities or concepts in code.\n",
    "\n",
    "# An object, on the other hand, is an instance of a class. It is a concrete \n",
    "# representation of the class, created using the class's blueprint. Each object\n",
    "# has its own unique state, meaning the values of its attributes, and it can perform \n",
    "# actions (methods) defined in its class.\n",
    "\n",
    "class car:\n",
    "    \n",
    "    def __init__(self,colour,cost,model):\n",
    "        self.colour= colour\n",
    "        self.cost= cost\n",
    "        self.model=model\n",
    "    \n",
    "    def car_details(self):\n",
    "        return self.colour,self.cost,self.model\n",
    "    \n",
    "    def accelerate():\n",
    "        print(\"Speed UP\")\n",
    "    \n",
    "    def Break():\n",
    "        print(\"Speed Down\")\n",
    "    \n",
    "sumo= car(\"red\",100000,\"1900MK\")\n",
    "sumo.car_details()      \n"
   ]
  },
  {
   "cell_type": "code",
   "execution_count": null,
   "id": "620bd15f-4de0-4b8e-abb3-737057b25ae4",
   "metadata": {},
   "outputs": [],
   "source": []
  },
  {
   "cell_type": "markdown",
   "id": "826809bb-882f-4fb8-84fd-7ff9bb7b4592",
   "metadata": {},
   "source": [
    "Q2. Name the four pillars of OOPs."
   ]
  },
  {
   "cell_type": "code",
   "execution_count": 8,
   "id": "85170e22-e5d7-4978-bb4b-713e319cd580",
   "metadata": {},
   "outputs": [],
   "source": [
    " Q2. Name the four pillars of OOPs.\n",
    "\n",
    "# 1.polymorphism\n",
    "# 2.Encapsulation\n",
    "# 3.Inheritance\n",
    "# 4.Abstraction"
   ]
  },
  {
   "cell_type": "markdown",
   "id": "d19c5cf2-38eb-4349-8aa2-3e6bfbef0137",
   "metadata": {},
   "source": [
    "Explain why the __init__() function is used. Give a suitable example."
   ]
  },
  {
   "cell_type": "code",
   "execution_count": 10,
   "id": "1b81bafc-b91e-4f8a-ad69-143e18b006d8",
   "metadata": {},
   "outputs": [],
   "source": [
    "#  __init__() is a special method in Python used in object-oriented programming. \n",
    "#  It is automatically called when an object is created from a class. The purpose of \n",
    "#  __init__() is to initialize the object's attributes, setting its initial state.\n",
    "#  It ensures that objects are ready for use immediately after creation."
   ]
  },
  {
   "cell_type": "code",
   "execution_count": null,
   "id": "c6a2f57d-1d16-4f89-bd3a-b92474750cd7",
   "metadata": {},
   "outputs": [],
   "source": []
  },
  {
   "cell_type": "markdown",
   "id": "c11ff12a-ff82-4bfe-8b18-c7a9ab20d725",
   "metadata": {},
   "source": [
    "Q4. Why self is used in OOPs?"
   ]
  },
  {
   "cell_type": "code",
   "execution_count": 11,
   "id": "e434a746-af8c-43a1-9ad6-29e9ac5ae852",
   "metadata": {},
   "outputs": [],
   "source": [
    "#  \"self\"  is a convention and a special parameter used in methods within a class \n",
    "#  to refer to the instance of the class itself. It represents the object that \n",
    "#  the method is being called on."
   ]
  },
  {
   "cell_type": "code",
   "execution_count": null,
   "id": "e323de52-3ef5-4436-9741-abe5c0d4fe61",
   "metadata": {},
   "outputs": [],
   "source": []
  },
  {
   "cell_type": "markdown",
   "id": "bcda539a-d80f-4577-b95a-058abffc27ed",
   "metadata": {},
   "source": [
    "Q5. What is inheritance? Give an example for each type of inheritance."
   ]
  },
  {
   "cell_type": "code",
   "execution_count": 22,
   "id": "b2e738c5-c28d-4b5c-a6ee-0dc274843cf1",
   "metadata": {},
   "outputs": [
    {
     "name": "stdout",
     "output_type": "stream",
     "text": [
      "I am class A\n",
      "I am class B\n",
      "I am class C\n",
      "----------------------\n",
      "I am class P\n"
     ]
    }
   ],
   "source": [
    "#  Inheritance is a fundamental concept in object-oriented programming (OOP) \n",
    "#  that allows a new class (subclass or derived class) to inherit properties and \n",
    "#  behaviors from an existing class (superclass or base class). It promotes code \n",
    "#  reusability and hierarchical organization of classes, enabling the subclass to\n",
    "#  reuse the code and functionality defined in its superclass. \"\"\"\n",
    "\n",
    "# Types of Inheritance:\n",
    "\n",
    "#    1.Single Inheritance\n",
    "class Animal:\n",
    "    def __init__(self):\n",
    "        pass\n",
    "class Dog(Animal):\n",
    "    def makes_sound(self):\n",
    "        print(\"Woow\")\n",
    "             \n",
    "#    2.Multiple Inheritance\n",
    "class A:\n",
    "    def Intro1(self):\n",
    "        print(\"I am class A\")\n",
    "        pass\n",
    "class B:\n",
    "    def Intro2(self):\n",
    "        print(\"I am class B\")\n",
    "\n",
    "class C(A,B):\n",
    "    def Intro3(self):\n",
    "        print(\"I am class C\")\n",
    "C= C()\n",
    "C.Intro1()\n",
    "C.Intro2()\n",
    "C.Intro3()\n",
    "print(\"----------------------\")\n",
    "#    3.Multi-level Inheritance\n",
    "class P:\n",
    "    def Intro1(self):\n",
    "        print(\"I am class P\")\n",
    "        pass\n",
    "class Q(P):\n",
    "    def Intro2(self):\n",
    "        print(\"I am class P\")\n",
    "\n",
    "class R(Q):\n",
    "    def Intro3(self):\n",
    "        print(\"I am class C\")\n",
    "R= R()\n",
    "R.Intro1()"
   ]
  },
  {
   "cell_type": "code",
   "execution_count": null,
   "id": "4255116a-32a6-4877-a0dc-5e8e3f34bcda",
   "metadata": {},
   "outputs": [],
   "source": []
  }
 ],
 "metadata": {
  "kernelspec": {
   "display_name": "Python 3 (ipykernel)",
   "language": "python",
   "name": "python3"
  },
  "language_info": {
   "codemirror_mode": {
    "name": "ipython",
    "version": 3
   },
   "file_extension": ".py",
   "mimetype": "text/x-python",
   "name": "python",
   "nbconvert_exporter": "python",
   "pygments_lexer": "ipython3",
   "version": "3.10.8"
  }
 },
 "nbformat": 4,
 "nbformat_minor": 5
}
